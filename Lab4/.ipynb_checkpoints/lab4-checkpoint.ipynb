{
 "cells": [
  {
   "cell_type": "markdown",
   "metadata": {},
   "source": [
    "# Лабораторная работа № 4"
   ]
  },
  {
   "cell_type": "markdown",
   "metadata": {},
   "source": [
    "# Линейные модели, SVM и деревья решений"
   ]
  },
  {
   "cell_type": "markdown",
   "metadata": {},
   "source": [
    "## Задание:\n",
    "\n",
    "1. Выберите набор данных (датасет) для решения задачи классификации или регрессии.\n",
    "2. В случае необходимости проведите удаление или заполнение пропусков и кодирование категориальных признаков.\n",
    "3. С использованием метода train_test_split разделите выборку на обучающую и тестовую.\n",
    "4. Обучите следующие модели:\n",
    "   - одну из линейных моделей;\n",
    "   - SVM;\n",
    "   - дерево решений.\n",
    "5. Оцените качество моделей с помощью двух подходящих для задачи метрик. Сравните качество полученных моделей."
   ]
  },
  {
   "cell_type": "markdown",
   "metadata": {},
   "source": [
    "## Выполнение"
   ]
  },
  {
   "cell_type": "markdown",
   "metadata": {},
   "source": [
    "### Импорт библиотек"
   ]
  },
  {
   "cell_type": "code",
   "execution_count": 97,
   "metadata": {},
   "outputs": [],
   "source": [
    "import numpy as np\n",
    "import pandas as pd\n",
    "from sklearn.datasets import load_diabetes\n",
    "from io import StringIO \n",
    "from IPython.display import Image\n",
    "# import graphviz \n",
    "from operator import itemgetter\n",
    "from sklearn.impute import SimpleImputer, MissingIndicator\n",
    "from sklearn.preprocessing import MinMaxScaler\n",
    "from sklearn.model_selection import train_test_split\n",
    "from sklearn.linear_model import LinearRegression, SGDRegressor\n",
    "from sklearn.svm import SVR, LinearSVR\n",
    "from sklearn.tree import DecisionTreeRegressor\n",
    "from sklearn.metrics import mean_squared_error, r2_score, mean_absolute_error\n",
    "import seaborn as sns\n",
    "import matplotlib.pyplot as plt\n",
    "%matplotlib inline \n",
    "sns.set(style=\"ticks\")"
   ]
  },
  {
   "cell_type": "markdown",
   "metadata": {},
   "source": [
    "### Подготовка данных"
   ]
  },
  {
   "cell_type": "markdown",
   "metadata": {},
   "source": [
    "В качестве датасета будем использовать набор данных о погодных условиях на Второй мировой войне: https://www.kaggle.com/smid80/weatherww2/data?select=Summary+of+Weather.csv"
   ]
  },
  {
   "cell_type": "code",
   "execution_count": 2,
   "metadata": {},
   "outputs": [
    {
     "name": "stderr",
     "output_type": "stream",
     "text": [
      "/Users/kalashnikova/opt/anaconda3/lib/python3.8/site-packages/IPython/core/interactiveshell.py:3146: DtypeWarning: Columns (7,8,18,25) have mixed types.Specify dtype option on import or set low_memory=False.\n",
      "  has_raised = await self.run_ast_nodes(code_ast.body, cell_name,\n"
     ]
    }
   ],
   "source": [
    "data = pd.read_csv('Summary of Weather.csv', sep=\",\")"
   ]
  },
  {
   "cell_type": "code",
   "execution_count": 3,
   "metadata": {},
   "outputs": [
    {
     "data": {
      "text/plain": [
       "(119040, 31)"
      ]
     },
     "execution_count": 3,
     "metadata": {},
     "output_type": "execute_result"
    }
   ],
   "source": [
    "# Размер набора данных\n",
    "data.shape"
   ]
  },
  {
   "cell_type": "code",
   "execution_count": 4,
   "metadata": {},
   "outputs": [
    {
     "data": {
      "text/plain": [
       "STA              int64\n",
       "Date            object\n",
       "Precip          object\n",
       "WindGustSpd    float64\n",
       "MaxTemp        float64\n",
       "MinTemp        float64\n",
       "MeanTemp       float64\n",
       "Snowfall        object\n",
       "PoorWeather     object\n",
       "YR               int64\n",
       "MO               int64\n",
       "DA               int64\n",
       "PRCP            object\n",
       "DR             float64\n",
       "SPD            float64\n",
       "MAX            float64\n",
       "MIN            float64\n",
       "MEA            float64\n",
       "SNF             object\n",
       "SND            float64\n",
       "FT             float64\n",
       "FB             float64\n",
       "FTI            float64\n",
       "ITH            float64\n",
       "PGT            float64\n",
       "TSHDSBRSGF      object\n",
       "SD3            float64\n",
       "RHX            float64\n",
       "RHN            float64\n",
       "RVG            float64\n",
       "WTE            float64\n",
       "dtype: object"
      ]
     },
     "execution_count": 4,
     "metadata": {},
     "output_type": "execute_result"
    }
   ],
   "source": [
    "# Типы колонок\n",
    "data.dtypes"
   ]
  },
  {
   "cell_type": "code",
   "execution_count": 5,
   "metadata": {},
   "outputs": [
    {
     "data": {
      "text/plain": [
       "STA                 0\n",
       "Date                0\n",
       "Precip              0\n",
       "WindGustSpd    118508\n",
       "MaxTemp             0\n",
       "MinTemp             0\n",
       "MeanTemp            0\n",
       "Snowfall         1163\n",
       "PoorWeather     84803\n",
       "YR                  0\n",
       "MO                  0\n",
       "DA                  0\n",
       "PRCP             1932\n",
       "DR             118507\n",
       "SPD            118508\n",
       "MAX               474\n",
       "MIN               468\n",
       "MEA               498\n",
       "SNF              1163\n",
       "SND            113477\n",
       "FT             119040\n",
       "FB             119040\n",
       "FTI            119040\n",
       "ITH            119040\n",
       "PGT            118515\n",
       "TSHDSBRSGF      84803\n",
       "SD3            119040\n",
       "RHX            119040\n",
       "RHN            119040\n",
       "RVG            119040\n",
       "WTE            119040\n",
       "dtype: int64"
      ]
     },
     "execution_count": 5,
     "metadata": {},
     "output_type": "execute_result"
    }
   ],
   "source": [
    "# Проверим есть ли пропущенные значения\n",
    "data.isnull().sum()"
   ]
  },
  {
   "cell_type": "code",
   "execution_count": 6,
   "metadata": {
    "scrolled": true
   },
   "outputs": [
    {
     "data": {
      "text/html": [
       "<div>\n",
       "<style scoped>\n",
       "    .dataframe tbody tr th:only-of-type {\n",
       "        vertical-align: middle;\n",
       "    }\n",
       "\n",
       "    .dataframe tbody tr th {\n",
       "        vertical-align: top;\n",
       "    }\n",
       "\n",
       "    .dataframe thead th {\n",
       "        text-align: right;\n",
       "    }\n",
       "</style>\n",
       "<table border=\"1\" class=\"dataframe\">\n",
       "  <thead>\n",
       "    <tr style=\"text-align: right;\">\n",
       "      <th></th>\n",
       "      <th>STA</th>\n",
       "      <th>Date</th>\n",
       "      <th>Precip</th>\n",
       "      <th>WindGustSpd</th>\n",
       "      <th>MaxTemp</th>\n",
       "      <th>MinTemp</th>\n",
       "      <th>MeanTemp</th>\n",
       "      <th>Snowfall</th>\n",
       "      <th>PoorWeather</th>\n",
       "      <th>YR</th>\n",
       "      <th>...</th>\n",
       "      <th>FB</th>\n",
       "      <th>FTI</th>\n",
       "      <th>ITH</th>\n",
       "      <th>PGT</th>\n",
       "      <th>TSHDSBRSGF</th>\n",
       "      <th>SD3</th>\n",
       "      <th>RHX</th>\n",
       "      <th>RHN</th>\n",
       "      <th>RVG</th>\n",
       "      <th>WTE</th>\n",
       "    </tr>\n",
       "  </thead>\n",
       "  <tbody>\n",
       "    <tr>\n",
       "      <th>0</th>\n",
       "      <td>10001</td>\n",
       "      <td>1942-7-1</td>\n",
       "      <td>1.016</td>\n",
       "      <td>NaN</td>\n",
       "      <td>25.555556</td>\n",
       "      <td>22.222222</td>\n",
       "      <td>23.888889</td>\n",
       "      <td>0</td>\n",
       "      <td>NaN</td>\n",
       "      <td>42</td>\n",
       "      <td>...</td>\n",
       "      <td>NaN</td>\n",
       "      <td>NaN</td>\n",
       "      <td>NaN</td>\n",
       "      <td>NaN</td>\n",
       "      <td>NaN</td>\n",
       "      <td>NaN</td>\n",
       "      <td>NaN</td>\n",
       "      <td>NaN</td>\n",
       "      <td>NaN</td>\n",
       "      <td>NaN</td>\n",
       "    </tr>\n",
       "    <tr>\n",
       "      <th>1</th>\n",
       "      <td>10001</td>\n",
       "      <td>1942-7-2</td>\n",
       "      <td>0</td>\n",
       "      <td>NaN</td>\n",
       "      <td>28.888889</td>\n",
       "      <td>21.666667</td>\n",
       "      <td>25.555556</td>\n",
       "      <td>0</td>\n",
       "      <td>NaN</td>\n",
       "      <td>42</td>\n",
       "      <td>...</td>\n",
       "      <td>NaN</td>\n",
       "      <td>NaN</td>\n",
       "      <td>NaN</td>\n",
       "      <td>NaN</td>\n",
       "      <td>NaN</td>\n",
       "      <td>NaN</td>\n",
       "      <td>NaN</td>\n",
       "      <td>NaN</td>\n",
       "      <td>NaN</td>\n",
       "      <td>NaN</td>\n",
       "    </tr>\n",
       "    <tr>\n",
       "      <th>2</th>\n",
       "      <td>10001</td>\n",
       "      <td>1942-7-3</td>\n",
       "      <td>2.54</td>\n",
       "      <td>NaN</td>\n",
       "      <td>26.111111</td>\n",
       "      <td>22.222222</td>\n",
       "      <td>24.444444</td>\n",
       "      <td>0</td>\n",
       "      <td>NaN</td>\n",
       "      <td>42</td>\n",
       "      <td>...</td>\n",
       "      <td>NaN</td>\n",
       "      <td>NaN</td>\n",
       "      <td>NaN</td>\n",
       "      <td>NaN</td>\n",
       "      <td>NaN</td>\n",
       "      <td>NaN</td>\n",
       "      <td>NaN</td>\n",
       "      <td>NaN</td>\n",
       "      <td>NaN</td>\n",
       "      <td>NaN</td>\n",
       "    </tr>\n",
       "    <tr>\n",
       "      <th>3</th>\n",
       "      <td>10001</td>\n",
       "      <td>1942-7-4</td>\n",
       "      <td>2.54</td>\n",
       "      <td>NaN</td>\n",
       "      <td>26.666667</td>\n",
       "      <td>22.222222</td>\n",
       "      <td>24.444444</td>\n",
       "      <td>0</td>\n",
       "      <td>NaN</td>\n",
       "      <td>42</td>\n",
       "      <td>...</td>\n",
       "      <td>NaN</td>\n",
       "      <td>NaN</td>\n",
       "      <td>NaN</td>\n",
       "      <td>NaN</td>\n",
       "      <td>NaN</td>\n",
       "      <td>NaN</td>\n",
       "      <td>NaN</td>\n",
       "      <td>NaN</td>\n",
       "      <td>NaN</td>\n",
       "      <td>NaN</td>\n",
       "    </tr>\n",
       "    <tr>\n",
       "      <th>4</th>\n",
       "      <td>10001</td>\n",
       "      <td>1942-7-5</td>\n",
       "      <td>0</td>\n",
       "      <td>NaN</td>\n",
       "      <td>26.666667</td>\n",
       "      <td>21.666667</td>\n",
       "      <td>24.444444</td>\n",
       "      <td>0</td>\n",
       "      <td>NaN</td>\n",
       "      <td>42</td>\n",
       "      <td>...</td>\n",
       "      <td>NaN</td>\n",
       "      <td>NaN</td>\n",
       "      <td>NaN</td>\n",
       "      <td>NaN</td>\n",
       "      <td>NaN</td>\n",
       "      <td>NaN</td>\n",
       "      <td>NaN</td>\n",
       "      <td>NaN</td>\n",
       "      <td>NaN</td>\n",
       "      <td>NaN</td>\n",
       "    </tr>\n",
       "  </tbody>\n",
       "</table>\n",
       "<p>5 rows × 31 columns</p>\n",
       "</div>"
      ],
      "text/plain": [
       "     STA      Date Precip  WindGustSpd    MaxTemp    MinTemp   MeanTemp  \\\n",
       "0  10001  1942-7-1  1.016          NaN  25.555556  22.222222  23.888889   \n",
       "1  10001  1942-7-2      0          NaN  28.888889  21.666667  25.555556   \n",
       "2  10001  1942-7-3   2.54          NaN  26.111111  22.222222  24.444444   \n",
       "3  10001  1942-7-4   2.54          NaN  26.666667  22.222222  24.444444   \n",
       "4  10001  1942-7-5      0          NaN  26.666667  21.666667  24.444444   \n",
       "\n",
       "  Snowfall PoorWeather  YR  ...  FB  FTI ITH  PGT  TSHDSBRSGF  SD3  RHX  RHN  \\\n",
       "0        0         NaN  42  ... NaN  NaN NaN  NaN         NaN  NaN  NaN  NaN   \n",
       "1        0         NaN  42  ... NaN  NaN NaN  NaN         NaN  NaN  NaN  NaN   \n",
       "2        0         NaN  42  ... NaN  NaN NaN  NaN         NaN  NaN  NaN  NaN   \n",
       "3        0         NaN  42  ... NaN  NaN NaN  NaN         NaN  NaN  NaN  NaN   \n",
       "4        0         NaN  42  ... NaN  NaN NaN  NaN         NaN  NaN  NaN  NaN   \n",
       "\n",
       "  RVG  WTE  \n",
       "0 NaN  NaN  \n",
       "1 NaN  NaN  \n",
       "2 NaN  NaN  \n",
       "3 NaN  NaN  \n",
       "4 NaN  NaN  \n",
       "\n",
       "[5 rows x 31 columns]"
      ]
     },
     "execution_count": 6,
     "metadata": {},
     "output_type": "execute_result"
    }
   ],
   "source": [
    "# Первые 5 строк датасета\n",
    "data.head()"
   ]
  },
  {
   "cell_type": "code",
   "execution_count": 7,
   "metadata": {},
   "outputs": [
    {
     "name": "stdout",
     "output_type": "stream",
     "text": [
      "Всего строк: 119040\n"
     ]
    }
   ],
   "source": [
    "total_count = data.shape[0]\n",
    "print(\"Всего строк: {}\".format(total_count))"
   ]
  },
  {
   "cell_type": "markdown",
   "metadata": {},
   "source": [
    "### Обработка пропусков в числовых данных"
   ]
  },
  {
   "cell_type": "markdown",
   "metadata": {},
   "source": [
    "Для создания эффективной модели прогнозирования удалим признаки, в которых пропуски составляют 30% от всех данных или больше."
   ]
  },
  {
   "cell_type": "code",
   "execution_count": 8,
   "metadata": {},
   "outputs": [
    {
     "name": "stdout",
     "output_type": "stream",
     "text": [
      "Колонка: WindGustSpd. Тип данных: float64. Количество пустых значений: 118508, 99.55%\n",
      "Колонка: DR. Тип данных: float64. Количество пустых значений: 118507, 99.55%\n",
      "Колонка: SPD. Тип данных: float64. Количество пустых значений: 118508, 99.55%\n",
      "Колонка: MAX. Тип данных: float64. Количество пустых значений: 474, 0.4%\n",
      "Колонка: MIN. Тип данных: float64. Количество пустых значений: 468, 0.39%\n",
      "Колонка: MEA. Тип данных: float64. Количество пустых значений: 498, 0.42%\n",
      "Колонка: SND. Тип данных: float64. Количество пустых значений: 113477, 95.33%\n",
      "Колонка: FT. Тип данных: float64. Количество пустых значений: 119040, 100.0%\n",
      "Колонка: FB. Тип данных: float64. Количество пустых значений: 119040, 100.0%\n",
      "Колонка: FTI. Тип данных: float64. Количество пустых значений: 119040, 100.0%\n",
      "Колонка: ITH. Тип данных: float64. Количество пустых значений: 119040, 100.0%\n",
      "Колонка: PGT. Тип данных: float64. Количество пустых значений: 118515, 99.56%\n",
      "Колонка: SD3. Тип данных: float64. Количество пустых значений: 119040, 100.0%\n",
      "Колонка: RHX. Тип данных: float64. Количество пустых значений: 119040, 100.0%\n",
      "Колонка: RHN. Тип данных: float64. Количество пустых значений: 119040, 100.0%\n",
      "Колонка: RVG. Тип данных: float64. Количество пустых значений: 119040, 100.0%\n",
      "Колонка: WTE. Тип данных: float64. Количество пустых значений: 119040, 100.0%\n",
      "['WindGustSpd', 'DR', 'SPD', 'SND', 'FT', 'FB', 'FTI', 'ITH', 'PGT', 'SD3', 'RHX', 'RHN', 'RVG', 'WTE']\n"
     ]
    }
   ],
   "source": [
    "num_cols = [] # массив числовых признаков с пустыми значениями\n",
    "cols_to_del = [] # массив числовых признаков на удаление\n",
    "for col in data.columns:\n",
    "    count_null = data[data[col].isnull()].shape[0] # кол-во пустых значений\n",
    "    dt = str(data[col].dtypes)\n",
    "    if count_null>0 and ((dt == 'int64') or (dt == 'float64')): # проверка на пропуски в числовых значениях\n",
    "        num_cols.append(col)\n",
    "        perc_of_missing = round(count_null/total_count * 100, 2)\n",
    "        if perc_of_missing > 30: # если пропусков больше 30%, то удаляем признак\n",
    "            cols_to_del.append(col)\n",
    "        print(\"Колонка: {}. Тип данных: {}. Количество пустых значений: {}, {}%\".format(col, dt, count_null, perc_of_missing))\n",
    "print(cols_to_del)"
   ]
  },
  {
   "cell_type": "code",
   "execution_count": 9,
   "metadata": {},
   "outputs": [
    {
     "data": {
      "text/plain": [
       "(119040, 17)"
      ]
     },
     "execution_count": 9,
     "metadata": {},
     "output_type": "execute_result"
    }
   ],
   "source": [
    "# Удаляем неподходящие признаки\n",
    "data.drop(cols_to_del, inplace=True, axis=1)\n",
    "data.shape"
   ]
  },
  {
   "cell_type": "code",
   "execution_count": 10,
   "metadata": {},
   "outputs": [
    {
     "data": {
      "text/plain": [
       "['MAX', 'MIN', 'MEA']"
      ]
     },
     "execution_count": 10,
     "metadata": {},
     "output_type": "execute_result"
    }
   ],
   "source": [
    "# Оставшиеся признаки с пустыми значениями\n",
    "cols_left = [x for x in num_cols if not any(x in y for y in cols_to_del)]\n",
    "cols_left"
   ]
  },
  {
   "cell_type": "code",
   "execution_count": 11,
   "metadata": {
    "scrolled": false
   },
   "outputs": [
    {
     "data": {
      "text/html": [
       "<div>\n",
       "<style scoped>\n",
       "    .dataframe tbody tr th:only-of-type {\n",
       "        vertical-align: middle;\n",
       "    }\n",
       "\n",
       "    .dataframe tbody tr th {\n",
       "        vertical-align: top;\n",
       "    }\n",
       "\n",
       "    .dataframe thead th {\n",
       "        text-align: right;\n",
       "    }\n",
       "</style>\n",
       "<table border=\"1\" class=\"dataframe\">\n",
       "  <thead>\n",
       "    <tr style=\"text-align: right;\">\n",
       "      <th></th>\n",
       "      <th>MAX</th>\n",
       "      <th>MIN</th>\n",
       "      <th>MEA</th>\n",
       "    </tr>\n",
       "  </thead>\n",
       "  <tbody>\n",
       "    <tr>\n",
       "      <th>0</th>\n",
       "      <td>78.0</td>\n",
       "      <td>72.0</td>\n",
       "      <td>75.0</td>\n",
       "    </tr>\n",
       "    <tr>\n",
       "      <th>1</th>\n",
       "      <td>84.0</td>\n",
       "      <td>71.0</td>\n",
       "      <td>78.0</td>\n",
       "    </tr>\n",
       "    <tr>\n",
       "      <th>2</th>\n",
       "      <td>79.0</td>\n",
       "      <td>72.0</td>\n",
       "      <td>76.0</td>\n",
       "    </tr>\n",
       "    <tr>\n",
       "      <th>3</th>\n",
       "      <td>80.0</td>\n",
       "      <td>72.0</td>\n",
       "      <td>76.0</td>\n",
       "    </tr>\n",
       "    <tr>\n",
       "      <th>4</th>\n",
       "      <td>80.0</td>\n",
       "      <td>71.0</td>\n",
       "      <td>76.0</td>\n",
       "    </tr>\n",
       "    <tr>\n",
       "      <th>...</th>\n",
       "      <td>...</td>\n",
       "      <td>...</td>\n",
       "      <td>...</td>\n",
       "    </tr>\n",
       "    <tr>\n",
       "      <th>119035</th>\n",
       "      <td>83.0</td>\n",
       "      <td>65.0</td>\n",
       "      <td>74.0</td>\n",
       "    </tr>\n",
       "    <tr>\n",
       "      <th>119036</th>\n",
       "      <td>85.0</td>\n",
       "      <td>65.0</td>\n",
       "      <td>75.0</td>\n",
       "    </tr>\n",
       "    <tr>\n",
       "      <th>119037</th>\n",
       "      <td>83.0</td>\n",
       "      <td>65.0</td>\n",
       "      <td>74.0</td>\n",
       "    </tr>\n",
       "    <tr>\n",
       "      <th>119038</th>\n",
       "      <td>83.0</td>\n",
       "      <td>65.0</td>\n",
       "      <td>74.0</td>\n",
       "    </tr>\n",
       "    <tr>\n",
       "      <th>119039</th>\n",
       "      <td>85.0</td>\n",
       "      <td>63.0</td>\n",
       "      <td>74.0</td>\n",
       "    </tr>\n",
       "  </tbody>\n",
       "</table>\n",
       "<p>119040 rows × 3 columns</p>\n",
       "</div>"
      ],
      "text/plain": [
       "         MAX   MIN   MEA\n",
       "0       78.0  72.0  75.0\n",
       "1       84.0  71.0  78.0\n",
       "2       79.0  72.0  76.0\n",
       "3       80.0  72.0  76.0\n",
       "4       80.0  71.0  76.0\n",
       "...      ...   ...   ...\n",
       "119035  83.0  65.0  74.0\n",
       "119036  85.0  65.0  75.0\n",
       "119037  83.0  65.0  74.0\n",
       "119038  83.0  65.0  74.0\n",
       "119039  85.0  63.0  74.0\n",
       "\n",
       "[119040 rows x 3 columns]"
      ]
     },
     "execution_count": 11,
     "metadata": {},
     "output_type": "execute_result"
    }
   ],
   "source": [
    "left_data = data[cols_left]\n",
    "left_data"
   ]
  },
  {
   "cell_type": "code",
   "execution_count": 12,
   "metadata": {
    "scrolled": false
   },
   "outputs": [
    {
     "data": {
      "image/png": "[encoded data removed]",
      "text/plain": [
       "<Figure size 432x288 with 1 Axes>"
      ]
     },
     "metadata": {},
     "output_type": "display_data"
    },
    {
     "data": {
      "image/png": "[encoded data removed]",
      "text/plain": [
       "<Figure size 432x288 with 1 Axes>"
      ]
     },
     "metadata": {},
     "output_type": "display_data"
    },
    {
     "data": {
      "image/png": "[encoded data removed]",
      "text/plain": [
       "<Figure size 432x288 with 1 Axes>"
      ]
     },
     "metadata": {},
     "output_type": "display_data"
    }
   ],
   "source": [
    "# Гистограмма по признакам\n",
    "for col in left_data:\n",
    "    plt.hist(data[col], 50)\n",
    "    plt.xlabel(col)\n",
    "    plt.show()"
   ]
  },
  {
   "cell_type": "markdown",
   "metadata": {},
   "source": [
    "Как видно из гистограмм, распределения всех трех признаков одномодальные. Поэтому заполнять пропуски будем с помощью моды."
   ]
  },
  {
   "cell_type": "code",
   "execution_count": 13,
   "metadata": {},
   "outputs": [],
   "source": [
    "# Функция, которая для заданной колонки делает импьютацию по моде\n",
    "def test_num_impute_col(dataset, column, strat_param):\n",
    "    temp_data = dataset[[column]]\n",
    "    \n",
    "    indicator = MissingIndicator()\n",
    "    mask_missing_values_only = indicator.fit_transform(temp_data)\n",
    "    \n",
    "    imp_num = SimpleImputer(strategy=strat_param)\n",
    "    data_num_imp = imp_num.fit_transform(temp_data)\n",
    "    \n",
    "    filled_data = data_num_imp[mask_missing_values_only]\n",
    "    \n",
    "    dataset[column] = dataset[column].fillna(filled_data[0])\n",
    "    \n",
    "    return filled_data[0]"
   ]
  },
  {
   "cell_type": "code",
   "execution_count": 14,
   "metadata": {},
   "outputs": [
    {
     "data": {
      "text/plain": [
       "86.0"
      ]
     },
     "execution_count": 14,
     "metadata": {},
     "output_type": "execute_result"
    }
   ],
   "source": [
    "test_num_impute_col(data, 'MAX', 'most_frequent')"
   ]
  },
  {
   "cell_type": "code",
   "execution_count": 15,
   "metadata": {},
   "outputs": [
    {
     "data": {
      "text/plain": [
       "72.0"
      ]
     },
     "execution_count": 15,
     "metadata": {},
     "output_type": "execute_result"
    }
   ],
   "source": [
    "test_num_impute_col(data, 'MIN', 'most_frequent')"
   ]
  },
  {
   "cell_type": "code",
   "execution_count": 16,
   "metadata": {},
   "outputs": [
    {
     "data": {
      "text/plain": [
       "80.0"
      ]
     },
     "execution_count": 16,
     "metadata": {},
     "output_type": "execute_result"
    }
   ],
   "source": [
    "test_num_impute_col(data, 'MEA', 'most_frequent')"
   ]
  },
  {
   "cell_type": "markdown",
   "metadata": {},
   "source": [
    "### Обработка пропусков в данных, прочитанных некорректно"
   ]
  },
  {
   "cell_type": "code",
   "execution_count": 17,
   "metadata": {},
   "outputs": [
    {
     "name": "stdout",
     "output_type": "stream",
     "text": [
      "Колонка: Snowfall. Тип данных: object. Количество пустых значений: 1163, 0.98%\n",
      "Колонка: PoorWeather. Тип данных: object. Количество пустых значений: 84803, 71.24%\n",
      "Колонка: PRCP. Тип данных: object. Количество пустых значений: 1932, 1.62%\n",
      "Колонка: SNF. Тип данных: object. Количество пустых значений: 1163, 0.98%\n",
      "Колонка: TSHDSBRSGF. Тип данных: object. Количество пустых значений: 84803, 71.24%\n"
     ]
    }
   ],
   "source": [
    "num_cols =[]\n",
    "for col in data.columns:\n",
    "    count_null = data[data[col].isnull()].shape[0] # кол-во пустых значений\n",
    "    dt = str(data[col].dtypes)\n",
    "    if count_null>0 and dt == 'object':\n",
    "        num_cols.append(col)\n",
    "        perc_of_missing = round(count_null/total_count * 100, 2)\n",
    "        print(\"Колонка: {}. Тип данных: {}. Количество пустых значений: {}, {}%\".format(col, dt, count_null, perc_of_missing))"
   ]
  },
  {
   "cell_type": "code",
   "execution_count": 18,
   "metadata": {},
   "outputs": [
    {
     "data": {
      "text/plain": [
       "(119040, 15)"
      ]
     },
     "execution_count": 18,
     "metadata": {},
     "output_type": "execute_result"
    }
   ],
   "source": [
    "# Удалим признаки с пропусками в данных больше 30%\n",
    "deleting = ['PoorWeather', 'TSHDSBRSGF']\n",
    "data.drop(deleting, inplace=True, axis=1)\n",
    "data.shape"
   ]
  },
  {
   "cell_type": "markdown",
   "metadata": {},
   "source": [
    "Колонки PRCP и SNF дублируют колонки Precip и Snowfall соответственно (первые измеряются в дюймах, вторые в миллиметрах). Удалим колонки PRCP и SNF для создания более точной модели. Затем пройдем по оставшимся колонкам с пропусками и закодируем их."
   ]
  },
  {
   "cell_type": "code",
   "execution_count": 19,
   "metadata": {},
   "outputs": [
    {
     "data": {
      "text/plain": [
       "(119040, 13)"
      ]
     },
     "execution_count": 19,
     "metadata": {},
     "output_type": "execute_result"
    }
   ],
   "source": [
    "deleting = ['PRCP', 'SNF']\n",
    "data.drop(deleting, inplace=True, axis=1)\n",
    "data.shape"
   ]
  },
  {
   "cell_type": "code",
   "execution_count": 20,
   "metadata": {},
   "outputs": [
    {
     "data": {
      "text/plain": [
       "array([0.0, nan, '0', '22.86', '33.02', '30.48', '2.54', '5.08', '10.16',\n",
       "       '7.62', '20.32', '15.24', '17.78', '12.7', '25.4', '27.94',\n",
       "       '43.18', '38.1', '45.72', '53.34', '58.42', '66.04', '76.2',\n",
       "       '81.28', '73.66', '63.5', '50.8', '48.26', '60.96', '55.88',\n",
       "       '35.56', '78.74', '40.64', '86.36', '83.82', '68.58', '#VALUE!',\n",
       "       10.16, 7.62, 15.24, 2.54, 5.08, 12.7], dtype=object)"
      ]
     },
     "execution_count": 20,
     "metadata": {},
     "output_type": "execute_result"
    }
   ],
   "source": [
    "data_snowf = data['Snowfall']\n",
    "data_snowf.unique()"
   ]
  },
  {
   "cell_type": "markdown",
   "metadata": {},
   "source": [
    "В колонке Snowfall числовые значения записаны в форматах float64 и str. Также есть пропущенное значение '#VALUE', которое лучше преобразовать в пустое (nan)."
   ]
  },
  {
   "cell_type": "code",
   "execution_count": 21,
   "metadata": {},
   "outputs": [],
   "source": [
    "data['Snowfall'] = data.Snowfall.apply(lambda i: i if i !='#VALUE!' else np.nan)"
   ]
  },
  {
   "cell_type": "code",
   "execution_count": 22,
   "metadata": {},
   "outputs": [
    {
     "data": {
      "text/plain": [
       "array([0.0, nan, '0', '22.86', '33.02', '30.48', '2.54', '5.08', '10.16',\n",
       "       '7.62', '20.32', '15.24', '17.78', '12.7', '25.4', '27.94',\n",
       "       '43.18', '38.1', '45.72', '53.34', '58.42', '66.04', '76.2',\n",
       "       '81.28', '73.66', '63.5', '50.8', '48.26', '60.96', '55.88',\n",
       "       '35.56', '78.74', '40.64', '86.36', '83.82', '68.58', 10.16, 7.62,\n",
       "       15.24, 2.54, 5.08, 12.7], dtype=object)"
      ]
     },
     "execution_count": 22,
     "metadata": {},
     "output_type": "execute_result"
    }
   ],
   "source": [
    "data_snowf = data['Snowfall']\n",
    "data_snowf.unique()"
   ]
  },
  {
   "cell_type": "code",
   "execution_count": 23,
   "metadata": {},
   "outputs": [],
   "source": [
    "data['Snowfall'] = [float(i) for i in data_snowf]"
   ]
  },
  {
   "cell_type": "code",
   "execution_count": 24,
   "metadata": {},
   "outputs": [
    {
     "data": {
      "text/plain": [
       "array([ 0.  ,   nan, 22.86, 33.02, 30.48,  2.54,  5.08, 10.16,  7.62,\n",
       "       20.32, 15.24, 17.78, 12.7 , 25.4 , 27.94, 43.18, 38.1 , 45.72,\n",
       "       53.34, 58.42, 66.04, 76.2 , 81.28, 73.66, 63.5 , 50.8 , 48.26,\n",
       "       60.96, 55.88, 35.56, 78.74, 40.64, 86.36, 83.82, 68.58])"
      ]
     },
     "execution_count": 24,
     "metadata": {},
     "output_type": "execute_result"
    }
   ],
   "source": [
    "data['Snowfall'].unique()"
   ]
  },
  {
   "cell_type": "markdown",
   "metadata": {},
   "source": [
    "Колонка Snowfall теперь имеет только числовые признаки."
   ]
  },
  {
   "cell_type": "code",
   "execution_count": 25,
   "metadata": {},
   "outputs": [
    {
     "data": {
      "text/plain": [
       "0         0.0\n",
       "1         0.0\n",
       "2         0.0\n",
       "3         0.0\n",
       "4         0.0\n",
       "         ... \n",
       "119035    0.0\n",
       "119036    0.0\n",
       "119037    0.0\n",
       "119038    0.0\n",
       "119039    0.0\n",
       "Name: Snowfall, Length: 119040, dtype: float64"
      ]
     },
     "execution_count": 25,
     "metadata": {},
     "output_type": "execute_result"
    }
   ],
   "source": [
    "data['Snowfall']"
   ]
  },
  {
   "cell_type": "code",
   "execution_count": 26,
   "metadata": {},
   "outputs": [
    {
     "data": {
      "image/png": "[encoded data removed]",
      "text/plain": [
       "<Figure size 432x288 with 1 Axes>"
      ]
     },
     "metadata": {},
     "output_type": "display_data"
    }
   ],
   "source": [
    "# Гистограмма для признака Snowfall\n",
    "plt.hist(data['Snowfall'], 20)\n",
    "plt.xlabel('Snowfall')\n",
    "plt.show()"
   ]
  },
  {
   "cell_type": "code",
   "execution_count": 27,
   "metadata": {},
   "outputs": [
    {
     "data": {
      "text/plain": [
       "0.24554360832703917"
      ]
     },
     "execution_count": 27,
     "metadata": {},
     "output_type": "execute_result"
    }
   ],
   "source": [
    "test_num_impute_col(data, 'Snowfall', 'mean')"
   ]
  },
  {
   "cell_type": "code",
   "execution_count": 28,
   "metadata": {},
   "outputs": [
    {
     "data": {
      "text/plain": [
       "STA         0\n",
       "Date        0\n",
       "Precip      0\n",
       "MaxTemp     0\n",
       "MinTemp     0\n",
       "MeanTemp    0\n",
       "Snowfall    0\n",
       "YR          0\n",
       "MO          0\n",
       "DA          0\n",
       "MAX         0\n",
       "MIN         0\n",
       "MEA         0\n",
       "dtype: int64"
      ]
     },
     "execution_count": 28,
     "metadata": {},
     "output_type": "execute_result"
    }
   ],
   "source": [
    "data.isnull().sum()"
   ]
  },
  {
   "cell_type": "markdown",
   "metadata": {},
   "source": [
    "Все пропуски заполнены."
   ]
  },
  {
   "cell_type": "markdown",
   "metadata": {},
   "source": [
    "### Кодирование категориальных признаков"
   ]
  },
  {
   "cell_type": "code",
   "execution_count": 29,
   "metadata": {
    "scrolled": true
   },
   "outputs": [
    {
     "data": {
      "text/plain": [
       "array(['1.016', '0', '2.54', 'T', '3.556', '0.508', '0.254', '1.778',\n",
       "       '3.302', '0.762', '5.588', '5.08', '2.032', '25.654', '40.132',\n",
       "       '19.05', '23.876', '4.064', '12.192', '2.794', '33.274', '19.304',\n",
       "       '47.752', '6.35', '3.048', '8.382', '10.16', '27.178', '30.48',\n",
       "       '45.212', '10.668', '15.494', '57.658', '58.166', '11.43',\n",
       "       '31.242', '17.78', '26.924', '26.67', '6.604', '5.334', '4.826',\n",
       "       '7.62', '8.636', '7.874', '12.446', '90.932', '13.462', '11.938',\n",
       "       '5.842', '4.318', '6.096', '9.144', '4.572', '9.906', '9.652',\n",
       "       '1.524', '13.97', '17.272', '33.528', '1.27', '13.716', '8.128',\n",
       "       '22.352', '39.116', '36.068', '98.044', '3.81', '14.986', '78.232',\n",
       "       '146.304', '14.732', '21.844', '120.904', '42.164', '23.368',\n",
       "       '21.082', '44.958', '2.286', '50.038', '17.526', '51.054', '7.112',\n",
       "       '25.4', '7.366', '16.256', '46.736', '8.89', '24.638', '11.684',\n",
       "       '17.018', '144.78', '18.034', '50.8', '106.426', '36.576', '53.34',\n",
       "       '34.798', '12.954', '26.416', '85.598', '47.498', '12.7', '11.176',\n",
       "       '59.182', '33.782', '40.894', '28.194', '24.892', '14.478',\n",
       "       '71.628', '102.108', '31.496', '36.322', '37.846', '35.56',\n",
       "       '31.75', '49.022', '69.85', '36.83', '19.558', '127.508', '64.77',\n",
       "       '105.156', '16.002', '75.184', '143.51', '60.96', '68.58', '55.88',\n",
       "       '23.622', '126.238', '70.358', '6.858', '16.764', '24.13',\n",
       "       '52.832', '25.146', '74.676', '16.51', '65.024', '51.816',\n",
       "       '13.208', '30.226', '29.972', '215.9', '21.336', '76.962',\n",
       "       '29.464', '9.398', '15.748', '45.974', '41.148', '48.514', '33.02',\n",
       "       '10.414', '18.796', '14.224', '68.326', '80.264', '70.866',\n",
       "       '35.814', '22.86', '30.988', '20.828', '34.036', '20.066',\n",
       "       '27.432', '62.23', '37.338', '55.372', '73.66', '18.288',\n",
       "       '114.808', '56.388', '273.558', '27.686', '111.506', '101.346',\n",
       "       '120.142', '116.586', '66.294', '32.766', '55.118', '30.734',\n",
       "       '46.228', '68.072', '62.484', '72.644', '203.708', '15.24',\n",
       "       '61.214', '48.768', '10.922', '54.61', '81.788', '38.1', '37.592',\n",
       "       '18.542', '49.784', '32.258', '94.488', '67.818', '41.402',\n",
       "       '22.606', '43.434', '27.94', '61.468', '25.908', '54.102',\n",
       "       '52.578', '46.99', '177.8', '28.956', '119.38', '44.45', '85.344',\n",
       "       '95.758', '91.948', '38.354', '39.624', '80.01', '40.386',\n",
       "       '35.306', '88.646', '65.786', '136.398', '77.978', '116.84',\n",
       "       '75.438', '69.596', '42.672', '39.37', '20.574', '39.878',\n",
       "       '42.926', '38.608', '155.448', '140.716', '148.336', '19.812',\n",
       "       '60.706', '97.028', '57.912', '72.898', '65.532', '71.882',\n",
       "       '21.59', '22.098', '34.29', '35.052', '43.18', '50.546', '20.32',\n",
       "       '70.612', '67.31', '28.448', '32.004', '48.006', '76.2', '37.084',\n",
       "       '48.26', '43.942', '76.708', '52.07', '52.324', '120.396',\n",
       "       '80.518', '63.5', '125.984', '116.332', '46.482', '76.454',\n",
       "       '34.544', '42.418', '29.21', '81.28', '24.384', '58.674',\n",
       "       '108.204', '173.736', '49.53', '225.298', '206.248', '162.052',\n",
       "       '87.122', '88.138', '103.632', '82.804', '93.726', '28.702',\n",
       "       '99.06', '61.976', '51.308', '110.998', '93.98', '107.442',\n",
       "       '23.114', '92.456', '57.15', '84.074', '40.64', '62.738', '41.656',\n",
       "       '32.512', '50.292', '26.162', '53.848', '73.914', '64.516',\n",
       "       '38.862', '84.836', '103.886', '41.91', '56.896', '82.042',\n",
       "       '66.548', '60.198', '53.086', '54.356', '45.72', '29.718',\n",
       "       '43.688', '67.056', '70.104', '69.342', '86.868', '86.106',\n",
       "       '58.42', '74.168', '68.834', '97.79', '44.704', '63.754', '56.134',\n",
       "       '66.04', '85.852', '64.262', '85.09', '122.936', '44.196',\n",
       "       '231.648', '83.058', '121.666', '56.642', '51.562', '113.538',\n",
       "       '75.946', '102.362', '54.864', '78.994', '75.692', '94.742',\n",
       "       '47.244', '74.422', '152.4', '71.374', '79.248', '130.048',\n",
       "       '97.536', '99.314', '238.76', '102.87', '82.296', '94.234',\n",
       "       '125.73', '59.436', '112.014', '182.372', '127', '88.392',\n",
       "       '211.328', '82.55', '107.696', '73.406', '124.46', '163.83',\n",
       "       '107.95', '62.992', '118.618', '136.652', '55.626', '101.092',\n",
       "       '90.424', '57.404', '98.552', '90.678', '95.504', '159.512',\n",
       "       '103.378', '139.446', '234.95', '133.35', '100.33', '63.246',\n",
       "       '73.152', '81.534', '157.48', '64.008', '77.47', '77.216', '59.69',\n",
       "       '71.12', '124.206', '59.944', '104.394', '253.238', '86.614',\n",
       "       '49.276', '77.724', '123.698', '106.68', '97.282', '45.466',\n",
       "       '126.492', '53.594', '123.952', '65.278', '92.71', '79.756',\n",
       "       '166.624', '74.93', '95.25', '61.722', '148.59', '248.92',\n",
       "       '100.584', '147.828', '257.048', '307.34', '184.15', '87.376',\n",
       "       '134.874', '206.756', '110.744', '79.502', '67.564', '81.026',\n",
       "       '89.408', '164.338', '101.854', '90.17', '134.62', '58.928',\n",
       "       '83.82', '121.92', '69.088', '91.694', '60.452', '105.41',\n",
       "       '143.002', '137.922', '87.884', '88.9', '112.776', '78.486',\n",
       "       '72.136', '194.564', '112.522', '134.112', '128.778', '83.312',\n",
       "       '96.774', '168.656', '78.74', '117.348', '80.772', '125.222',\n",
       "       '182.626', '132.588', '209.804', '116.078', '89.154', '129.54',\n",
       "       '96.266', '86.36', '117.602', '83.566', '92.964', '109.982',\n",
       "       '92.202', '149.352', '66.802', '122.174', '233.172', '200.406',\n",
       "       '124.968', '89.916', '139.954', '184.404', '91.44', '89.662',\n",
       "       '100.838', '101.6', '119.634', '98.298', '94.996', '132.842',\n",
       "       '84.328', '130.556', '99.822', '109.728', '91.186', '96.52',\n",
       "       '106.172', '72.39', '104.648', '238.506', '139.192', '132.334',\n",
       "       '113.03', '175.006', '124.714', '150.114', '125.476', '119.888',\n",
       "       '133.858', '167.386', '114.554', '115.316', '84.582', '185.166',\n",
       "       '104.902', '111.252', '164.846', '118.872', '167.64', '163.322',\n",
       "       '111.76', '104.14', '194.31', '140.208', '110.236', '153.162',\n",
       "       '165.1', '242.316', '154.686', '105.918', '133.096', '161.036'],\n",
       "      dtype=object)"
      ]
     },
     "execution_count": 29,
     "metadata": {},
     "output_type": "execute_result"
    }
   ],
   "source": [
    "data['Precip'].unique()"
   ]
  },
  {
   "cell_type": "markdown",
   "metadata": {},
   "source": [
    "В описании датасета указано, что в метеорологии T (Trace) используется для описания очень небольшого количества осадков, такого что измерительные приборы не могут его распознать. Поэтому этот показатель эквивалентен нулю."
   ]
  },
  {
   "cell_type": "code",
   "execution_count": 30,
   "metadata": {},
   "outputs": [],
   "source": [
    "data['Precip'] = data.Precip.apply(lambda i: float(i) if i !='T' else 0)"
   ]
  },
  {
   "cell_type": "code",
   "execution_count": 31,
   "metadata": {},
   "outputs": [
    {
     "data": {
      "text/plain": [
       "(119040, 12)"
      ]
     },
     "execution_count": 31,
     "metadata": {},
     "output_type": "execute_result"
    }
   ],
   "source": [
    "data.drop('Date', inplace=True, axis=1)\n",
    "data.shape"
   ]
  },
  {
   "cell_type": "code",
   "execution_count": 32,
   "metadata": {},
   "outputs": [
    {
     "data": {
      "text/html": [
       "<div>\n",
       "<style scoped>\n",
       "    .dataframe tbody tr th:only-of-type {\n",
       "        vertical-align: middle;\n",
       "    }\n",
       "\n",
       "    .dataframe tbody tr th {\n",
       "        vertical-align: top;\n",
       "    }\n",
       "\n",
       "    .dataframe thead th {\n",
       "        text-align: right;\n",
       "    }\n",
       "</style>\n",
       "<table border=\"1\" class=\"dataframe\">\n",
       "  <thead>\n",
       "    <tr style=\"text-align: right;\">\n",
       "      <th></th>\n",
       "      <th>STA</th>\n",
       "      <th>Precip</th>\n",
       "      <th>MaxTemp</th>\n",
       "      <th>MinTemp</th>\n",
       "      <th>MeanTemp</th>\n",
       "      <th>Snowfall</th>\n",
       "      <th>YR</th>\n",
       "      <th>MO</th>\n",
       "      <th>DA</th>\n",
       "      <th>MAX</th>\n",
       "      <th>MIN</th>\n",
       "      <th>MEA</th>\n",
       "    </tr>\n",
       "  </thead>\n",
       "  <tbody>\n",
       "    <tr>\n",
       "      <th>count</th>\n",
       "      <td>119040.000000</td>\n",
       "      <td>119040.000000</td>\n",
       "      <td>119040.000000</td>\n",
       "      <td>119040.000000</td>\n",
       "      <td>119040.000000</td>\n",
       "      <td>119040.000000</td>\n",
       "      <td>119040.000000</td>\n",
       "      <td>119040.000000</td>\n",
       "      <td>119040.000000</td>\n",
       "      <td>119040.000000</td>\n",
       "      <td>119040.000000</td>\n",
       "      <td>119040.000000</td>\n",
       "    </tr>\n",
       "    <tr>\n",
       "      <th>mean</th>\n",
       "      <td>29659.435795</td>\n",
       "      <td>3.225612</td>\n",
       "      <td>27.045111</td>\n",
       "      <td>17.789511</td>\n",
       "      <td>22.411631</td>\n",
       "      <td>0.245544</td>\n",
       "      <td>43.805284</td>\n",
       "      <td>6.726016</td>\n",
       "      <td>15.797530</td>\n",
       "      <td>81.023639</td>\n",
       "      <td>64.304183</td>\n",
       "      <td>72.675613</td>\n",
       "    </tr>\n",
       "    <tr>\n",
       "      <th>std</th>\n",
       "      <td>20953.209402</td>\n",
       "      <td>10.801044</td>\n",
       "      <td>8.717817</td>\n",
       "      <td>8.334572</td>\n",
       "      <td>8.297982</td>\n",
       "      <td>2.613250</td>\n",
       "      <td>1.136718</td>\n",
       "      <td>3.425561</td>\n",
       "      <td>8.794541</td>\n",
       "      <td>14.843063</td>\n",
       "      <td>14.461088</td>\n",
       "      <td>14.189268</td>\n",
       "    </tr>\n",
       "    <tr>\n",
       "      <th>min</th>\n",
       "      <td>10001.000000</td>\n",
       "      <td>0.000000</td>\n",
       "      <td>-33.333333</td>\n",
       "      <td>-38.333333</td>\n",
       "      <td>-35.555556</td>\n",
       "      <td>0.000000</td>\n",
       "      <td>40.000000</td>\n",
       "      <td>1.000000</td>\n",
       "      <td>1.000000</td>\n",
       "      <td>-28.000000</td>\n",
       "      <td>-37.000000</td>\n",
       "      <td>-32.000000</td>\n",
       "    </tr>\n",
       "    <tr>\n",
       "      <th>25%</th>\n",
       "      <td>11801.000000</td>\n",
       "      <td>0.000000</td>\n",
       "      <td>25.555556</td>\n",
       "      <td>15.000000</td>\n",
       "      <td>20.555556</td>\n",
       "      <td>0.000000</td>\n",
       "      <td>43.000000</td>\n",
       "      <td>4.000000</td>\n",
       "      <td>8.000000</td>\n",
       "      <td>78.000000</td>\n",
       "      <td>59.000000</td>\n",
       "      <td>69.000000</td>\n",
       "    </tr>\n",
       "    <tr>\n",
       "      <th>50%</th>\n",
       "      <td>22508.000000</td>\n",
       "      <td>0.000000</td>\n",
       "      <td>29.444444</td>\n",
       "      <td>21.111111</td>\n",
       "      <td>25.555556</td>\n",
       "      <td>0.000000</td>\n",
       "      <td>44.000000</td>\n",
       "      <td>7.000000</td>\n",
       "      <td>16.000000</td>\n",
       "      <td>85.000000</td>\n",
       "      <td>70.000000</td>\n",
       "      <td>78.000000</td>\n",
       "    </tr>\n",
       "    <tr>\n",
       "      <th>75%</th>\n",
       "      <td>33501.000000</td>\n",
       "      <td>0.762000</td>\n",
       "      <td>31.666667</td>\n",
       "      <td>23.333333</td>\n",
       "      <td>27.222222</td>\n",
       "      <td>0.000000</td>\n",
       "      <td>45.000000</td>\n",
       "      <td>10.000000</td>\n",
       "      <td>23.000000</td>\n",
       "      <td>89.000000</td>\n",
       "      <td>74.000000</td>\n",
       "      <td>81.000000</td>\n",
       "    </tr>\n",
       "    <tr>\n",
       "      <th>max</th>\n",
       "      <td>82506.000000</td>\n",
       "      <td>307.340000</td>\n",
       "      <td>50.000000</td>\n",
       "      <td>34.444444</td>\n",
       "      <td>40.000000</td>\n",
       "      <td>86.360000</td>\n",
       "      <td>45.000000</td>\n",
       "      <td>12.000000</td>\n",
       "      <td>31.000000</td>\n",
       "      <td>122.000000</td>\n",
       "      <td>94.000000</td>\n",
       "      <td>104.000000</td>\n",
       "    </tr>\n",
       "  </tbody>\n",
       "</table>\n",
       "</div>"
      ],
      "text/plain": [
       "                 STA         Precip        MaxTemp        MinTemp  \\\n",
       "count  119040.000000  119040.000000  119040.000000  119040.000000   \n",
       "mean    29659.435795       3.225612      27.045111      17.789511   \n",
       "std     20953.209402      10.801044       8.717817       8.334572   \n",
       "min     10001.000000       0.000000     -33.333333     -38.333333   \n",
       "25%     11801.000000       0.000000      25.555556      15.000000   \n",
       "50%     22508.000000       0.000000      29.444444      21.111111   \n",
       "75%     33501.000000       0.762000      31.666667      23.333333   \n",
       "max     82506.000000     307.340000      50.000000      34.444444   \n",
       "\n",
       "            MeanTemp       Snowfall             YR             MO  \\\n",
       "count  119040.000000  119040.000000  119040.000000  119040.000000   \n",
       "mean       22.411631       0.245544      43.805284       6.726016   \n",
       "std         8.297982       2.613250       1.136718       3.425561   \n",
       "min       -35.555556       0.000000      40.000000       1.000000   \n",
       "25%        20.555556       0.000000      43.000000       4.000000   \n",
       "50%        25.555556       0.000000      44.000000       7.000000   \n",
       "75%        27.222222       0.000000      45.000000      10.000000   \n",
       "max        40.000000      86.360000      45.000000      12.000000   \n",
       "\n",
       "                  DA            MAX            MIN            MEA  \n",
       "count  119040.000000  119040.000000  119040.000000  119040.000000  \n",
       "mean       15.797530      81.023639      64.304183      72.675613  \n",
       "std         8.794541      14.843063      14.461088      14.189268  \n",
       "min         1.000000     -28.000000     -37.000000     -32.000000  \n",
       "25%         8.000000      78.000000      59.000000      69.000000  \n",
       "50%        16.000000      85.000000      70.000000      78.000000  \n",
       "75%        23.000000      89.000000      74.000000      81.000000  \n",
       "max        31.000000     122.000000      94.000000     104.000000  "
      ]
     },
     "execution_count": 32,
     "metadata": {},
     "output_type": "execute_result"
    }
   ],
   "source": [
    "# Статистические характеристики датасета\n",
    "data.describe()"
   ]
  },
  {
   "cell_type": "code",
   "execution_count": 91,
   "metadata": {
    "scrolled": false
   },
   "outputs": [],
   "source": [
    "# Отмасштабируем признаки, т.к. min и max у признаков находятся не в одном диапазоне\n",
    "sc = MinMaxScaler()\n",
    "data[:] = sc.fit_transform(data)"
   ]
  },
  {
   "cell_type": "code",
   "execution_count": 87,
   "metadata": {},
   "outputs": [
    {
     "data": {
      "text/html": [
       "<div>\n",
       "<style scoped>\n",
       "    .dataframe tbody tr th:only-of-type {\n",
       "        vertical-align: middle;\n",
       "    }\n",
       "\n",
       "    .dataframe tbody tr th {\n",
       "        vertical-align: top;\n",
       "    }\n",
       "\n",
       "    .dataframe thead th {\n",
       "        text-align: right;\n",
       "    }\n",
       "</style>\n",
       "<table border=\"1\" class=\"dataframe\">\n",
       "  <thead>\n",
       "    <tr style=\"text-align: right;\">\n",
       "      <th></th>\n",
       "      <th>STA</th>\n",
       "      <th>Precip</th>\n",
       "      <th>MaxTemp</th>\n",
       "      <th>MinTemp</th>\n",
       "      <th>MeanTemp</th>\n",
       "      <th>Snowfall</th>\n",
       "      <th>YR</th>\n",
       "      <th>MO</th>\n",
       "      <th>DA</th>\n",
       "      <th>MAX</th>\n",
       "      <th>MIN</th>\n",
       "      <th>MEA</th>\n",
       "    </tr>\n",
       "  </thead>\n",
       "  <tbody>\n",
       "    <tr>\n",
       "      <th>0</th>\n",
       "      <td>0.0</td>\n",
       "      <td>0.003306</td>\n",
       "      <td>0.706667</td>\n",
       "      <td>0.832061</td>\n",
       "      <td>0.786765</td>\n",
       "      <td>0.0</td>\n",
       "      <td>0.4</td>\n",
       "      <td>0.545455</td>\n",
       "      <td>0.000000</td>\n",
       "      <td>0.706667</td>\n",
       "      <td>0.832061</td>\n",
       "      <td>0.786765</td>\n",
       "    </tr>\n",
       "    <tr>\n",
       "      <th>1</th>\n",
       "      <td>0.0</td>\n",
       "      <td>0.000000</td>\n",
       "      <td>0.746667</td>\n",
       "      <td>0.824427</td>\n",
       "      <td>0.808824</td>\n",
       "      <td>0.0</td>\n",
       "      <td>0.4</td>\n",
       "      <td>0.545455</td>\n",
       "      <td>0.033333</td>\n",
       "      <td>0.746667</td>\n",
       "      <td>0.824427</td>\n",
       "      <td>0.808824</td>\n",
       "    </tr>\n",
       "    <tr>\n",
       "      <th>2</th>\n",
       "      <td>0.0</td>\n",
       "      <td>0.008264</td>\n",
       "      <td>0.713333</td>\n",
       "      <td>0.832061</td>\n",
       "      <td>0.794118</td>\n",
       "      <td>0.0</td>\n",
       "      <td>0.4</td>\n",
       "      <td>0.545455</td>\n",
       "      <td>0.066667</td>\n",
       "      <td>0.713333</td>\n",
       "      <td>0.832061</td>\n",
       "      <td>0.794118</td>\n",
       "    </tr>\n",
       "    <tr>\n",
       "      <th>3</th>\n",
       "      <td>0.0</td>\n",
       "      <td>0.008264</td>\n",
       "      <td>0.720000</td>\n",
       "      <td>0.832061</td>\n",
       "      <td>0.794118</td>\n",
       "      <td>0.0</td>\n",
       "      <td>0.4</td>\n",
       "      <td>0.545455</td>\n",
       "      <td>0.100000</td>\n",
       "      <td>0.720000</td>\n",
       "      <td>0.832061</td>\n",
       "      <td>0.794118</td>\n",
       "    </tr>\n",
       "    <tr>\n",
       "      <th>4</th>\n",
       "      <td>0.0</td>\n",
       "      <td>0.000000</td>\n",
       "      <td>0.720000</td>\n",
       "      <td>0.824427</td>\n",
       "      <td>0.794118</td>\n",
       "      <td>0.0</td>\n",
       "      <td>0.4</td>\n",
       "      <td>0.545455</td>\n",
       "      <td>0.133333</td>\n",
       "      <td>0.720000</td>\n",
       "      <td>0.824427</td>\n",
       "      <td>0.794118</td>\n",
       "    </tr>\n",
       "    <tr>\n",
       "      <th>...</th>\n",
       "      <td>...</td>\n",
       "      <td>...</td>\n",
       "      <td>...</td>\n",
       "      <td>...</td>\n",
       "      <td>...</td>\n",
       "      <td>...</td>\n",
       "      <td>...</td>\n",
       "      <td>...</td>\n",
       "      <td>...</td>\n",
       "      <td>...</td>\n",
       "      <td>...</td>\n",
       "      <td>...</td>\n",
       "    </tr>\n",
       "    <tr>\n",
       "      <th>119035</th>\n",
       "      <td>1.0</td>\n",
       "      <td>0.000000</td>\n",
       "      <td>0.740000</td>\n",
       "      <td>0.778626</td>\n",
       "      <td>0.779412</td>\n",
       "      <td>0.0</td>\n",
       "      <td>1.0</td>\n",
       "      <td>1.000000</td>\n",
       "      <td>0.866667</td>\n",
       "      <td>0.740000</td>\n",
       "      <td>0.778626</td>\n",
       "      <td>0.779412</td>\n",
       "    </tr>\n",
       "    <tr>\n",
       "      <th>119036</th>\n",
       "      <td>1.0</td>\n",
       "      <td>0.032231</td>\n",
       "      <td>0.753333</td>\n",
       "      <td>0.778626</td>\n",
       "      <td>0.786765</td>\n",
       "      <td>0.0</td>\n",
       "      <td>1.0</td>\n",
       "      <td>1.000000</td>\n",
       "      <td>0.900000</td>\n",
       "      <td>0.753333</td>\n",
       "      <td>0.778626</td>\n",
       "      <td>0.786765</td>\n",
       "    </tr>\n",
       "    <tr>\n",
       "      <th>119037</th>\n",
       "      <td>1.0</td>\n",
       "      <td>0.000000</td>\n",
       "      <td>0.740000</td>\n",
       "      <td>0.778626</td>\n",
       "      <td>0.779412</td>\n",
       "      <td>0.0</td>\n",
       "      <td>1.0</td>\n",
       "      <td>1.000000</td>\n",
       "      <td>0.933333</td>\n",
       "      <td>0.740000</td>\n",
       "      <td>0.778626</td>\n",
       "      <td>0.779412</td>\n",
       "    </tr>\n",
       "    <tr>\n",
       "      <th>119038</th>\n",
       "      <td>1.0</td>\n",
       "      <td>0.000000</td>\n",
       "      <td>0.740000</td>\n",
       "      <td>0.778626</td>\n",
       "      <td>0.779412</td>\n",
       "      <td>0.0</td>\n",
       "      <td>1.0</td>\n",
       "      <td>1.000000</td>\n",
       "      <td>0.966667</td>\n",
       "      <td>0.740000</td>\n",
       "      <td>0.778626</td>\n",
       "      <td>0.779412</td>\n",
       "    </tr>\n",
       "    <tr>\n",
       "      <th>119039</th>\n",
       "      <td>1.0</td>\n",
       "      <td>0.000000</td>\n",
       "      <td>0.753333</td>\n",
       "      <td>0.763359</td>\n",
       "      <td>0.779412</td>\n",
       "      <td>0.0</td>\n",
       "      <td>1.0</td>\n",
       "      <td>1.000000</td>\n",
       "      <td>1.000000</td>\n",
       "      <td>0.753333</td>\n",
       "      <td>0.763359</td>\n",
       "      <td>0.779412</td>\n",
       "    </tr>\n",
       "  </tbody>\n",
       "</table>\n",
       "<p>119040 rows × 12 columns</p>\n",
       "</div>"
      ],
      "text/plain": [
       "        STA    Precip   MaxTemp   MinTemp  MeanTemp  Snowfall   YR        MO  \\\n",
       "0       0.0  0.003306  0.706667  0.832061  0.786765       0.0  0.4  0.545455   \n",
       "1       0.0  0.000000  0.746667  0.824427  0.808824       0.0  0.4  0.545455   \n",
       "2       0.0  0.008264  0.713333  0.832061  0.794118       0.0  0.4  0.545455   \n",
       "3       0.0  0.008264  0.720000  0.832061  0.794118       0.0  0.4  0.545455   \n",
       "4       0.0  0.000000  0.720000  0.824427  0.794118       0.0  0.4  0.545455   \n",
       "...     ...       ...       ...       ...       ...       ...  ...       ...   \n",
       "119035  1.0  0.000000  0.740000  0.778626  0.779412       0.0  1.0  1.000000   \n",
       "119036  1.0  0.032231  0.753333  0.778626  0.786765       0.0  1.0  1.000000   \n",
       "119037  1.0  0.000000  0.740000  0.778626  0.779412       0.0  1.0  1.000000   \n",
       "119038  1.0  0.000000  0.740000  0.778626  0.779412       0.0  1.0  1.000000   \n",
       "119039  1.0  0.000000  0.753333  0.763359  0.779412       0.0  1.0  1.000000   \n",
       "\n",
       "              DA       MAX       MIN       MEA  \n",
       "0       0.000000  0.706667  0.832061  0.786765  \n",
       "1       0.033333  0.746667  0.824427  0.808824  \n",
       "2       0.066667  0.713333  0.832061  0.794118  \n",
       "3       0.100000  0.720000  0.832061  0.794118  \n",
       "4       0.133333  0.720000  0.824427  0.794118  \n",
       "...          ...       ...       ...       ...  \n",
       "119035  0.866667  0.740000  0.778626  0.779412  \n",
       "119036  0.900000  0.753333  0.778626  0.786765  \n",
       "119037  0.933333  0.740000  0.778626  0.779412  \n",
       "119038  0.966667  0.740000  0.778626  0.779412  \n",
       "119039  1.000000  0.753333  0.763359  0.779412  \n",
       "\n",
       "[119040 rows x 12 columns]"
      ]
     },
     "execution_count": 87,
     "metadata": {},
     "output_type": "execute_result"
    }
   ],
   "source": [
    "data"
   ]
  },
  {
   "cell_type": "code",
   "execution_count": 92,
   "metadata": {
    "scrolled": false
   },
   "outputs": [
    {
     "data": {
      "text/plain": [
       "<AxesSubplot:>"
      ]
     },
     "execution_count": 92,
     "metadata": {},
     "output_type": "execute_result"
    },
    {
     "data": {
      "image/png": "[encoded data removed]",
      "text/plain": [
       "<Figure size 1080x504 with 2 Axes>"
      ]
     },
     "metadata": {},
     "output_type": "display_data"
    }
   ],
   "source": [
    "# Построим корреляционную матрицу\n",
    "fig, ax = plt.subplots(figsize=(15,7))\n",
    "sns.heatmap(data.corr(method='pearson'), ax=ax, annot=True, fmt='.2f')"
   ]
  },
  {
   "cell_type": "code",
   "execution_count": 35,
   "metadata": {},
   "outputs": [
    {
     "data": {
      "text/plain": [
       "<AxesSubplot:xlabel='MinTemp', ylabel='MaxTemp'>"
      ]
     },
     "execution_count": 35,
     "metadata": {},
     "output_type": "execute_result"
    },
    {
     "data": {
      "image/png": "[encoded data removed]",
      "text/plain": [
       "<Figure size 720x720 with 1 Axes>"
      ]
     },
     "metadata": {},
     "output_type": "display_data"
    }
   ],
   "source": [
    "fig, ax = plt.subplots(figsize=(10,10)) \n",
    "sns.scatterplot(ax=ax, x='MinTemp', y='MaxTemp', data=data)"
   ]
  },
  {
   "cell_type": "markdown",
   "metadata": {},
   "source": [
    "Между признаком \"MinTemp\" и целевым признаком \"MaxTemp\" существует зависимость, близкая к линейной, коэффициент корреляции = 0,88.\n",
    "\n",
    "Попробуем восстановить данную линейную зависимость."
   ]
  },
  {
   "cell_type": "code",
   "execution_count": 36,
   "metadata": {},
   "outputs": [],
   "source": [
    "x_array = data['MinTemp'].values\n",
    "y_array = data['MaxTemp'].values"
   ]
  },
  {
   "cell_type": "code",
   "execution_count": 118,
   "metadata": {},
   "outputs": [],
   "source": [
    "reg1 = LinearRegression().fit(x_array.reshape(-1, 1), y_array.reshape(-1, 1))"
   ]
  },
  {
   "cell_type": "code",
   "execution_count": 38,
   "metadata": {},
   "outputs": [
    {
     "data": {
      "text/plain": [
       "(array([[0.91877423]]), array([10.70056704]))"
      ]
     },
     "execution_count": 38,
     "metadata": {},
     "output_type": "execute_result"
    }
   ],
   "source": [
    "reg1.coef_, reg1.intercept_"
   ]
  },
  {
   "cell_type": "code",
   "execution_count": 39,
   "metadata": {},
   "outputs": [
    {
     "name": "stdout",
     "output_type": "stream",
     "text": [
      "Размер выборки - 119040\n"
     ]
    },
    {
     "data": {
      "text/plain": [
       "(array([0.96929654]), array([10.55939535]))"
      ]
     },
     "execution_count": 39,
     "metadata": {},
     "output_type": "execute_result"
    }
   ],
   "source": [
    "print('Размер выборки - {}'.format(x_array.shape[0]))\n",
    "reg2 = SGDRegressor().fit(x_array.reshape(-1, 1), y_array)\n",
    "reg2.coef_, reg2.intercept_"
   ]
  },
  {
   "cell_type": "markdown",
   "metadata": {},
   "source": [
    "### Разделение выборки на обучающую и тестовую"
   ]
  },
  {
   "cell_type": "code",
   "execution_count": 93,
   "metadata": {},
   "outputs": [],
   "source": [
    "X_train, X_test, Y_train, Y_test = train_test_split(data, data.MaxTemp, test_size=0.3, random_state=1)"
   ]
  },
  {
   "cell_type": "code",
   "execution_count": 94,
   "metadata": {},
   "outputs": [
    {
     "data": {
      "text/plain": [
       "((83328, 12), (83328,))"
      ]
     },
     "execution_count": 94,
     "metadata": {},
     "output_type": "execute_result"
    }
   ],
   "source": [
    "# Размер обучающей выборки\n",
    "X_train.shape, Y_train.shape"
   ]
  },
  {
   "cell_type": "code",
   "execution_count": 95,
   "metadata": {},
   "outputs": [
    {
     "data": {
      "text/plain": [
       "((35712, 12), (35712,))"
      ]
     },
     "execution_count": 95,
     "metadata": {},
     "output_type": "execute_result"
    }
   ],
   "source": [
    "# Размер тестовой выборки\n",
    "X_test.shape, Y_test.shape"
   ]
  },
  {
   "cell_type": "markdown",
   "metadata": {},
   "source": [
    "## Линейная модель"
   ]
  },
  {
   "cell_type": "code",
   "execution_count": 43,
   "metadata": {},
   "outputs": [
    {
     "name": "stdout",
     "output_type": "stream",
     "text": [
      "Коэффициенты b1: \n",
      " [ 3.95288077e-14  8.05349451e-14  8.33333333e+01 -1.47206187e-13\n",
      "  2.65167769e-13  3.70709288e-15 -2.28375331e-13 -4.98827426e-14\n",
      " -1.47363949e-13 -1.40313569e-14  2.66313750e-14  5.90549930e-14]\n",
      "Среднеквадратичная ошибка: 0.00\n",
      "R2 оценка: 1.00\n"
     ]
    }
   ],
   "source": [
    "reg1 = LinearRegression().fit(X_train, Y_train)\n",
    "Y_pred = reg1.predict(X_test)\n",
    "\n",
    "print('Коэффициенты b1: \\n', reg1.coef_)\n",
    "\n",
    "print('Среднеквадратичная ошибка: %.2f'\n",
    "      % mean_squared_error(Y_test, Y_pred))\n",
    "# The coefficient of determination: 1 is perfect prediction\n",
    "print('R2 оценка: %.2f'\n",
    "      % r2_score(Y_test, Y_pred))"
   ]
  },
  {
   "cell_type": "code",
   "execution_count": 44,
   "metadata": {},
   "outputs": [
    {
     "name": "stdout",
     "output_type": "stream",
     "text": [
      "Размер выборки - 83328\n",
      "Коэффициенты b1: \n",
      " [ 3.55652275e-02 -1.43067871e+00  4.62021509e+01  4.95485770e+00\n",
      "  2.72459022e+01 -1.33121115e+00  1.27110387e-01 -1.38716109e-02\n",
      "  6.75278130e-04  1.90239216e+01 -1.69962262e+01  1.68202042e+00]\n",
      "Среднеквадратичная ошибка: 0.12\n",
      "R2 оценка: 1.00\n"
     ]
    }
   ],
   "source": [
    "print('Размер выборки - {}'.format(X_train.shape[0]))\n",
    "reg2 = SGDRegressor().fit(X_train, Y_train)\n",
    "Y_pred = reg2.predict(X_test)\n",
    "print('Коэффициенты b1: \\n', reg2.coef_)\n",
    "\n",
    "print('Среднеквадратичная ошибка: %.2f'\n",
    "      % mean_squared_error(Y_test, Y_pred))\n",
    "# The coefficient of determination: 1 is perfect prediction\n",
    "print('R2 оценка: %.2f'\n",
    "      % r2_score(Y_test, Y_pred))"
   ]
  },
  {
   "cell_type": "markdown",
   "metadata": {},
   "source": [
    "## SVR"
   ]
  },
  {
   "cell_type": "code",
   "execution_count": 45,
   "metadata": {},
   "outputs": [
    {
     "data": {
      "text/plain": [
       "<AxesSubplot:>"
      ]
     },
     "execution_count": 45,
     "metadata": {},
     "output_type": "execute_result"
    },
    {
     "data": {
      "image/png": "[encoded data removed]",
      "text/plain": [
       "<Figure size 360x360 with 1 Axes>"
      ]
     },
     "metadata": {},
     "output_type": "display_data"
    }
   ],
   "source": [
    "fig, ax = plt.subplots(figsize=(5,5)) \n",
    "sns.scatterplot(ax=ax, x=x_array, y=y_array)"
   ]
  },
  {
   "cell_type": "code",
   "execution_count": 46,
   "metadata": {},
   "outputs": [],
   "source": [
    "def plot_regr(clf):\n",
    "    title = clf.__repr__\n",
    "    clf.fit(x_array.reshape(-1, 1), y_array)\n",
    "    y_pred = clf.predict(x_array.reshape(-1, 1))\n",
    "    fig, ax = plt.subplots(figsize=(5,5))\n",
    "    ax.set_title(title)\n",
    "    ax.plot(x_array, y_array, 'b.')\n",
    "    ax.plot(x_array, y_pred, 'ro')\n",
    "    plt.show()"
   ]
  },
  {
   "cell_type": "code",
   "execution_count": 47,
   "metadata": {},
   "outputs": [
    {
     "data": {
      "image/png": "[encoded data removed]",
      "text/plain": [
       "<Figure size 360x360 with 1 Axes>"
      ]
     },
     "metadata": {},
     "output_type": "display_data"
    }
   ],
   "source": [
    "# Линейный регрессор (не поддерживает ядра)\n",
    "plot_regr(LinearSVR(C=1.0, max_iter=10000))"
   ]
  },
  {
   "cell_type": "code",
   "execution_count": 49,
   "metadata": {},
   "outputs": [
    {
     "ename": "KeyboardInterrupt",
     "evalue": "",
     "output_type": "error",
     "traceback": [
      "\u001b[0;31m---------------------------------------------------------------------------\u001b[0m",
      "\u001b[0;31mKeyboardInterrupt\u001b[0m                         Traceback (most recent call last)",
      "\u001b[0;32m<ipython-input-49-7d9250a9d19b>\u001b[0m in \u001b[0;36m<module>\u001b[0;34m\u001b[0m\n\u001b[0;32m----> 1\u001b[0;31m \u001b[0mplot_regr\u001b[0m\u001b[0;34m(\u001b[0m\u001b[0mSVR\u001b[0m\u001b[0;34m(\u001b[0m\u001b[0mkernel\u001b[0m\u001b[0;34m=\u001b[0m\u001b[0;34m'rbf'\u001b[0m\u001b[0;34m,\u001b[0m \u001b[0mgamma\u001b[0m\u001b[0;34m=\u001b[0m\u001b[0;36m0.2\u001b[0m\u001b[0;34m,\u001b[0m \u001b[0mC\u001b[0m\u001b[0;34m=\u001b[0m\u001b[0;36m1.0\u001b[0m\u001b[0;34m)\u001b[0m\u001b[0;34m)\u001b[0m\u001b[0;34m\u001b[0m\u001b[0;34m\u001b[0m\u001b[0m\n\u001b[0m",
      "\u001b[0;32m<ipython-input-47-d73ce769b37a>\u001b[0m in \u001b[0;36mplot_regr\u001b[0;34m(clf)\u001b[0m\n\u001b[1;32m      2\u001b[0m     \u001b[0mtitle\u001b[0m \u001b[0;34m=\u001b[0m \u001b[0mclf\u001b[0m\u001b[0;34m.\u001b[0m\u001b[0m__repr__\u001b[0m\u001b[0;34m\u001b[0m\u001b[0;34m\u001b[0m\u001b[0m\n\u001b[1;32m      3\u001b[0m     \u001b[0mclf\u001b[0m\u001b[0;34m.\u001b[0m\u001b[0mfit\u001b[0m\u001b[0;34m(\u001b[0m\u001b[0mx_array\u001b[0m\u001b[0;34m.\u001b[0m\u001b[0mreshape\u001b[0m\u001b[0;34m(\u001b[0m\u001b[0;34m-\u001b[0m\u001b[0;36m1\u001b[0m\u001b[0;34m,\u001b[0m \u001b[0;36m1\u001b[0m\u001b[0;34m)\u001b[0m\u001b[0;34m,\u001b[0m \u001b[0my_array\u001b[0m\u001b[0;34m)\u001b[0m\u001b[0;34m\u001b[0m\u001b[0;34m\u001b[0m\u001b[0m\n\u001b[0;32m----> 4\u001b[0;31m     \u001b[0my_pred\u001b[0m \u001b[0;34m=\u001b[0m \u001b[0mclf\u001b[0m\u001b[0;34m.\u001b[0m\u001b[0mpredict\u001b[0m\u001b[0;34m(\u001b[0m\u001b[0mx_array\u001b[0m\u001b[0;34m.\u001b[0m\u001b[0mreshape\u001b[0m\u001b[0;34m(\u001b[0m\u001b[0;34m-\u001b[0m\u001b[0;36m1\u001b[0m\u001b[0;34m,\u001b[0m \u001b[0;36m1\u001b[0m\u001b[0;34m)\u001b[0m\u001b[0;34m)\u001b[0m\u001b[0;34m\u001b[0m\u001b[0;34m\u001b[0m\u001b[0m\n\u001b[0m\u001b[1;32m      5\u001b[0m     \u001b[0mfig\u001b[0m\u001b[0;34m,\u001b[0m \u001b[0max\u001b[0m \u001b[0;34m=\u001b[0m \u001b[0mplt\u001b[0m\u001b[0;34m.\u001b[0m\u001b[0msubplots\u001b[0m\u001b[0;34m(\u001b[0m\u001b[0mfigsize\u001b[0m\u001b[0;34m=\u001b[0m\u001b[0;34m(\u001b[0m\u001b[0;36m5\u001b[0m\u001b[0;34m,\u001b[0m\u001b[0;36m5\u001b[0m\u001b[0;34m)\u001b[0m\u001b[0;34m)\u001b[0m\u001b[0;34m\u001b[0m\u001b[0;34m\u001b[0m\u001b[0m\n\u001b[1;32m      6\u001b[0m     \u001b[0max\u001b[0m\u001b[0;34m.\u001b[0m\u001b[0mset_title\u001b[0m\u001b[0;34m(\u001b[0m\u001b[0mtitle\u001b[0m\u001b[0;34m)\u001b[0m\u001b[0;34m\u001b[0m\u001b[0;34m\u001b[0m\u001b[0m\n",
      "\u001b[0;32m~/opt/anaconda3/lib/python3.8/site-packages/sklearn/svm/_base.py\u001b[0m in \u001b[0;36mpredict\u001b[0;34m(self, X)\u001b[0m\n\u001b[1;32m    333\u001b[0m         \u001b[0mX\u001b[0m \u001b[0;34m=\u001b[0m \u001b[0mself\u001b[0m\u001b[0;34m.\u001b[0m\u001b[0m_validate_for_predict\u001b[0m\u001b[0;34m(\u001b[0m\u001b[0mX\u001b[0m\u001b[0;34m)\u001b[0m\u001b[0;34m\u001b[0m\u001b[0;34m\u001b[0m\u001b[0m\n\u001b[1;32m    334\u001b[0m         \u001b[0mpredict\u001b[0m \u001b[0;34m=\u001b[0m \u001b[0mself\u001b[0m\u001b[0;34m.\u001b[0m\u001b[0m_sparse_predict\u001b[0m \u001b[0;32mif\u001b[0m \u001b[0mself\u001b[0m\u001b[0;34m.\u001b[0m\u001b[0m_sparse\u001b[0m \u001b[0;32melse\u001b[0m \u001b[0mself\u001b[0m\u001b[0;34m.\u001b[0m\u001b[0m_dense_predict\u001b[0m\u001b[0;34m\u001b[0m\u001b[0;34m\u001b[0m\u001b[0m\n\u001b[0;32m--> 335\u001b[0;31m         \u001b[0;32mreturn\u001b[0m \u001b[0mpredict\u001b[0m\u001b[0;34m(\u001b[0m\u001b[0mX\u001b[0m\u001b[0;34m)\u001b[0m\u001b[0;34m\u001b[0m\u001b[0;34m\u001b[0m\u001b[0m\n\u001b[0m\u001b[1;32m    336\u001b[0m \u001b[0;34m\u001b[0m\u001b[0m\n\u001b[1;32m    337\u001b[0m     \u001b[0;32mdef\u001b[0m \u001b[0m_dense_predict\u001b[0m\u001b[0;34m(\u001b[0m\u001b[0mself\u001b[0m\u001b[0;34m,\u001b[0m \u001b[0mX\u001b[0m\u001b[0;34m)\u001b[0m\u001b[0;34m:\u001b[0m\u001b[0;34m\u001b[0m\u001b[0;34m\u001b[0m\u001b[0m\n",
      "\u001b[0;32m~/opt/anaconda3/lib/python3.8/site-packages/sklearn/svm/_base.py\u001b[0m in \u001b[0;36m_dense_predict\u001b[0;34m(self, X)\u001b[0m\n\u001b[1;32m    350\u001b[0m         \u001b[0msvm_type\u001b[0m \u001b[0;34m=\u001b[0m \u001b[0mLIBSVM_IMPL\u001b[0m\u001b[0;34m.\u001b[0m\u001b[0mindex\u001b[0m\u001b[0;34m(\u001b[0m\u001b[0mself\u001b[0m\u001b[0;34m.\u001b[0m\u001b[0m_impl\u001b[0m\u001b[0;34m)\u001b[0m\u001b[0;34m\u001b[0m\u001b[0;34m\u001b[0m\u001b[0m\n\u001b[1;32m    351\u001b[0m \u001b[0;34m\u001b[0m\u001b[0m\n\u001b[0;32m--> 352\u001b[0;31m         return libsvm.predict(\n\u001b[0m\u001b[1;32m    353\u001b[0m             \u001b[0mX\u001b[0m\u001b[0;34m,\u001b[0m \u001b[0mself\u001b[0m\u001b[0;34m.\u001b[0m\u001b[0msupport_\u001b[0m\u001b[0;34m,\u001b[0m \u001b[0mself\u001b[0m\u001b[0;34m.\u001b[0m\u001b[0msupport_vectors_\u001b[0m\u001b[0;34m,\u001b[0m \u001b[0mself\u001b[0m\u001b[0;34m.\u001b[0m\u001b[0m_n_support\u001b[0m\u001b[0;34m,\u001b[0m\u001b[0;34m\u001b[0m\u001b[0;34m\u001b[0m\u001b[0m\n\u001b[1;32m    354\u001b[0m             \u001b[0mself\u001b[0m\u001b[0;34m.\u001b[0m\u001b[0m_dual_coef_\u001b[0m\u001b[0;34m,\u001b[0m \u001b[0mself\u001b[0m\u001b[0;34m.\u001b[0m\u001b[0m_intercept_\u001b[0m\u001b[0;34m,\u001b[0m\u001b[0;34m\u001b[0m\u001b[0;34m\u001b[0m\u001b[0m\n",
      "\u001b[0;31mKeyboardInterrupt\u001b[0m: "
     ]
    }
   ],
   "source": [
    "# Регрессор на ядре rbf \n",
    "plot_regr(SVR(kernel='rbf', gamma=0.2, C=1.0))"
   ]
  },
  {
   "cell_type": "markdown",
   "metadata": {},
   "source": [
    "## Дерево решений"
   ]
  },
  {
   "cell_type": "code",
   "execution_count": 123,
   "metadata": {},
   "outputs": [],
   "source": [
    "tree = DecisionTreeRegressor(random_state = 1)\n",
    "tree.fit(X_train, Y_train)\n",
    "Y_pred_tree = tree.predict(X_test)"
   ]
  },
  {
   "cell_type": "code",
   "execution_count": 50,
   "metadata": {},
   "outputs": [],
   "source": [
    "# Визуализация дерева\n",
    "def get_png_tree(tree_model_param, feature_names_param):\n",
    "    dot_data = StringIO()\n",
    "    export_graphviz(tree_model_param, out_file=dot_data, feature_names=feature_names_param,\n",
    "                    filled=True, rounded=True, special_characters=True)\n",
    "    graph = pydotplus.graph_from_dot_data(dot_data.getvalue())\n",
    "    return graph.create_png()"
   ]
  },
  {
   "cell_type": "code",
   "execution_count": 55,
   "metadata": {},
   "outputs": [
    {
     "ename": "NameError",
     "evalue": "name 'export_graphviz' is not defined",
     "output_type": "error",
     "traceback": [
      "\u001b[0;31m---------------------------------------------------------------------------\u001b[0m",
      "\u001b[0;31mNameError\u001b[0m                                 Traceback (most recent call last)",
      "\u001b[0;32m<ipython-input-55-e68ee092ab78>\u001b[0m in \u001b[0;36m<module>\u001b[0;34m\u001b[0m\n\u001b[0;32m----> 1\u001b[0;31m \u001b[0mImage\u001b[0m\u001b[0;34m(\u001b[0m\u001b[0mget_png_tree\u001b[0m\u001b[0;34m(\u001b[0m\u001b[0mtree\u001b[0m\u001b[0;34m,\u001b[0m \u001b[0mlist\u001b[0m\u001b[0;34m(\u001b[0m\u001b[0mdata\u001b[0m\u001b[0;34m.\u001b[0m\u001b[0mcolumns\u001b[0m\u001b[0;34m)\u001b[0m\u001b[0;34m)\u001b[0m\u001b[0;34m,\u001b[0m \u001b[0mwidth\u001b[0m\u001b[0;34m=\u001b[0m\u001b[0;34m'80%'\u001b[0m\u001b[0;34m)\u001b[0m\u001b[0;34m\u001b[0m\u001b[0;34m\u001b[0m\u001b[0m\n\u001b[0m",
      "\u001b[0;32m<ipython-input-50-a30198b6ba9c>\u001b[0m in \u001b[0;36mget_png_tree\u001b[0;34m(tree_model_param, feature_names_param)\u001b[0m\n\u001b[1;32m      2\u001b[0m \u001b[0;32mdef\u001b[0m \u001b[0mget_png_tree\u001b[0m\u001b[0;34m(\u001b[0m\u001b[0mtree_model_param\u001b[0m\u001b[0;34m,\u001b[0m \u001b[0mfeature_names_param\u001b[0m\u001b[0;34m)\u001b[0m\u001b[0;34m:\u001b[0m\u001b[0;34m\u001b[0m\u001b[0;34m\u001b[0m\u001b[0m\n\u001b[1;32m      3\u001b[0m     \u001b[0mdot_data\u001b[0m \u001b[0;34m=\u001b[0m \u001b[0mStringIO\u001b[0m\u001b[0;34m(\u001b[0m\u001b[0;34m)\u001b[0m\u001b[0;34m\u001b[0m\u001b[0;34m\u001b[0m\u001b[0m\n\u001b[0;32m----> 4\u001b[0;31m     export_graphviz(tree_model_param, out_file=dot_data, feature_names=feature_names_param,\n\u001b[0m\u001b[1;32m      5\u001b[0m                     filled=True, rounded=True, special_characters=True)\n\u001b[1;32m      6\u001b[0m     \u001b[0mgraph\u001b[0m \u001b[0;34m=\u001b[0m \u001b[0mpydotplus\u001b[0m\u001b[0;34m.\u001b[0m\u001b[0mgraph_from_dot_data\u001b[0m\u001b[0;34m(\u001b[0m\u001b[0mdot_data\u001b[0m\u001b[0;34m.\u001b[0m\u001b[0mgetvalue\u001b[0m\u001b[0;34m(\u001b[0m\u001b[0;34m)\u001b[0m\u001b[0;34m)\u001b[0m\u001b[0;34m\u001b[0m\u001b[0;34m\u001b[0m\u001b[0m\n",
      "\u001b[0;31mNameError\u001b[0m: name 'export_graphviz' is not defined"
     ]
    }
   ],
   "source": [
    "Image(get_png_tree(tree, list(data.columns)), width='80%')"
   ]
  },
  {
   "cell_type": "code",
   "execution_count": 100,
   "metadata": {},
   "outputs": [
    {
     "data": {
      "text/plain": [
       "[('STA', 1.6473915318716073e-13),\n",
       " ('Precip', 3.6344215448222006e-08),\n",
       " ('MaxTemp', 0.9601149387436066),\n",
       " ('MinTemp', 1.218720743941932e-13),\n",
       " ('MeanTemp', 3.5603669970321225e-07),\n",
       " ('Snowfall', 1.8527252716382714e-18),\n",
       " ('YR', 4.2748238027150594e-14),\n",
       " ('MO', 2.4229378514255278e-08),\n",
       " ('DA', 4.471406021186035e-15),\n",
       " ('MAX', 0.03988464464571467),\n",
       " ('MIN', 4.156373481387656e-14),\n",
       " ('MEA', 9.398147655838396e-15)]"
      ]
     },
     "execution_count": 100,
     "metadata": {},
     "output_type": "execute_result"
    }
   ],
   "source": [
    "# Важность признаков\n",
    "list(zip(X_train.columns.values, tree.feature_importances_))"
   ]
  },
  {
   "cell_type": "code",
   "execution_count": 67,
   "metadata": {},
   "outputs": [],
   "source": [
    "def draw_feature_importances(tree_model, X_dataset, figsize=(18,5)):\n",
    "    \"\"\"\n",
    "    Вывод важности признаков в виде графика\n",
    "    \"\"\"\n",
    "    # Сортировка значений важности признаков по убыванию\n",
    "    list_to_sort = list(zip(X_dataset.columns.values, tree_model.feature_importances_))\n",
    "    sorted_list = sorted(list_to_sort, key=itemgetter(1), reverse = True)\n",
    "    # Названия признаков\n",
    "    labels = [x for x,_ in sorted_list]\n",
    "    # Важности признаков\n",
    "    data = [x for _,x in sorted_list]\n",
    "    # Вывод графика\n",
    "    fig, ax = plt.subplots(figsize=figsize)\n",
    "    ind = np.arange(len(labels))\n",
    "    plt.bar(ind, data)\n",
    "    plt.xticks(ind, labels, rotation='vertical')\n",
    "    # Вывод значений\n",
    "    for a,b in zip(ind, data):\n",
    "        plt.text(a-0.05, b+0.01, str(round(b,3)))\n",
    "    plt.show()\n",
    "    return labels, data"
   ]
  },
  {
   "cell_type": "code",
   "execution_count": 99,
   "metadata": {},
   "outputs": [
    {
     "data": {
      "image/png": "[encoded data removed]",
      "text/plain": [
       "<Figure size 1296x360 with 1 Axes>"
      ]
     },
     "metadata": {},
     "output_type": "display_data"
    }
   ],
   "source": [
    "tree_fl, tree_fd = draw_feature_importances(tree, X_train)"
   ]
  },
  {
   "cell_type": "code",
   "execution_count": 72,
   "metadata": {
    "scrolled": true
   },
   "outputs": [
    {
     "data": {
      "text/plain": [
       "(['MaxTemp',\n",
       "  'MAX',\n",
       "  'MeanTemp',\n",
       "  'Precip',\n",
       "  'MO',\n",
       "  'STA',\n",
       "  'MinTemp',\n",
       "  'YR',\n",
       "  'MIN',\n",
       "  'MEA',\n",
       "  'DA',\n",
       "  'Snowfall'],\n",
       " [0.9601149387436066,\n",
       "  0.03988464464571467,\n",
       "  3.5603669970321225e-07,\n",
       "  3.6344215448222006e-08,\n",
       "  2.4229378514255278e-08,\n",
       "  1.6473915318716073e-13,\n",
       "  1.218720743941932e-13,\n",
       "  4.2748238027150594e-14,\n",
       "  4.156373481387656e-14,\n",
       "  9.398147655838396e-15,\n",
       "  4.471406021186035e-15,\n",
       "  1.8527252716382714e-18])"
      ]
     },
     "execution_count": 72,
     "metadata": {},
     "output_type": "execute_result"
    }
   ],
   "source": [
    "# Список отсортированный по важности (по убыв)\n",
    "tree_fl, tree_fd"
   ]
  },
  {
   "cell_type": "code",
   "execution_count": 81,
   "metadata": {
    "scrolled": true
   },
   "outputs": [
    {
     "data": {
      "text/html": [
       "<div>\n",
       "<style scoped>\n",
       "    .dataframe tbody tr th:only-of-type {\n",
       "        vertical-align: middle;\n",
       "    }\n",
       "\n",
       "    .dataframe tbody tr th {\n",
       "        vertical-align: top;\n",
       "    }\n",
       "\n",
       "    .dataframe thead th {\n",
       "        text-align: right;\n",
       "    }\n",
       "</style>\n",
       "<table border=\"1\" class=\"dataframe\">\n",
       "  <thead>\n",
       "    <tr style=\"text-align: right;\">\n",
       "      <th></th>\n",
       "      <th>STA</th>\n",
       "      <th>Precip</th>\n",
       "      <th>MaxTemp</th>\n",
       "      <th>MinTemp</th>\n",
       "      <th>MeanTemp</th>\n",
       "      <th>Snowfall</th>\n",
       "      <th>YR</th>\n",
       "      <th>MO</th>\n",
       "      <th>DA</th>\n",
       "      <th>MAX</th>\n",
       "      <th>MIN</th>\n",
       "      <th>MEA</th>\n",
       "    </tr>\n",
       "  </thead>\n",
       "  <tbody>\n",
       "    <tr>\n",
       "      <th>0</th>\n",
       "      <td>10001</td>\n",
       "      <td>1.016</td>\n",
       "      <td>25.555556</td>\n",
       "      <td>22.222222</td>\n",
       "      <td>23.888889</td>\n",
       "      <td>0.0</td>\n",
       "      <td>42</td>\n",
       "      <td>7</td>\n",
       "      <td>1</td>\n",
       "      <td>78.0</td>\n",
       "      <td>72.0</td>\n",
       "      <td>75.0</td>\n",
       "    </tr>\n",
       "    <tr>\n",
       "      <th>1</th>\n",
       "      <td>10001</td>\n",
       "      <td>0.000</td>\n",
       "      <td>28.888889</td>\n",
       "      <td>21.666667</td>\n",
       "      <td>25.555556</td>\n",
       "      <td>0.0</td>\n",
       "      <td>42</td>\n",
       "      <td>7</td>\n",
       "      <td>2</td>\n",
       "      <td>84.0</td>\n",
       "      <td>71.0</td>\n",
       "      <td>78.0</td>\n",
       "    </tr>\n",
       "    <tr>\n",
       "      <th>2</th>\n",
       "      <td>10001</td>\n",
       "      <td>2.540</td>\n",
       "      <td>26.111111</td>\n",
       "      <td>22.222222</td>\n",
       "      <td>24.444444</td>\n",
       "      <td>0.0</td>\n",
       "      <td>42</td>\n",
       "      <td>7</td>\n",
       "      <td>3</td>\n",
       "      <td>79.0</td>\n",
       "      <td>72.0</td>\n",
       "      <td>76.0</td>\n",
       "    </tr>\n",
       "    <tr>\n",
       "      <th>3</th>\n",
       "      <td>10001</td>\n",
       "      <td>2.540</td>\n",
       "      <td>26.666667</td>\n",
       "      <td>22.222222</td>\n",
       "      <td>24.444444</td>\n",
       "      <td>0.0</td>\n",
       "      <td>42</td>\n",
       "      <td>7</td>\n",
       "      <td>4</td>\n",
       "      <td>80.0</td>\n",
       "      <td>72.0</td>\n",
       "      <td>76.0</td>\n",
       "    </tr>\n",
       "    <tr>\n",
       "      <th>4</th>\n",
       "      <td>10001</td>\n",
       "      <td>0.000</td>\n",
       "      <td>26.666667</td>\n",
       "      <td>21.666667</td>\n",
       "      <td>24.444444</td>\n",
       "      <td>0.0</td>\n",
       "      <td>42</td>\n",
       "      <td>7</td>\n",
       "      <td>5</td>\n",
       "      <td>80.0</td>\n",
       "      <td>71.0</td>\n",
       "      <td>76.0</td>\n",
       "    </tr>\n",
       "  </tbody>\n",
       "</table>\n",
       "</div>"
      ],
      "text/plain": [
       "     STA  Precip    MaxTemp    MinTemp   MeanTemp  Snowfall  YR  MO  DA   MAX  \\\n",
       "0  10001   1.016  25.555556  22.222222  23.888889       0.0  42   7   1  78.0   \n",
       "1  10001   0.000  28.888889  21.666667  25.555556       0.0  42   7   2  84.0   \n",
       "2  10001   2.540  26.111111  22.222222  24.444444       0.0  42   7   3  79.0   \n",
       "3  10001   2.540  26.666667  22.222222  24.444444       0.0  42   7   4  80.0   \n",
       "4  10001   0.000  26.666667  21.666667  24.444444       0.0  42   7   5  80.0   \n",
       "\n",
       "    MIN   MEA  \n",
       "0  72.0  75.0  \n",
       "1  71.0  78.0  \n",
       "2  72.0  76.0  \n",
       "3  72.0  76.0  \n",
       "4  71.0  76.0  "
      ]
     },
     "execution_count": 81,
     "metadata": {},
     "output_type": "execute_result"
    }
   ],
   "source": [
    "data.head()"
   ]
  },
  {
   "cell_type": "code",
   "execution_count": 82,
   "metadata": {
    "scrolled": true
   },
   "outputs": [
    {
     "data": {
      "text/html": [
       "<div>\n",
       "<style scoped>\n",
       "    .dataframe tbody tr th:only-of-type {\n",
       "        vertical-align: middle;\n",
       "    }\n",
       "\n",
       "    .dataframe tbody tr th {\n",
       "        vertical-align: top;\n",
       "    }\n",
       "\n",
       "    .dataframe thead th {\n",
       "        text-align: right;\n",
       "    }\n",
       "</style>\n",
       "<table border=\"1\" class=\"dataframe\">\n",
       "  <thead>\n",
       "    <tr style=\"text-align: right;\">\n",
       "      <th></th>\n",
       "      <th>MaxTemp</th>\n",
       "      <th>MAX</th>\n",
       "      <th>MeanTemp</th>\n",
       "      <th>Precip</th>\n",
       "      <th>MO</th>\n",
       "      <th>STA</th>\n",
       "      <th>MinTemp</th>\n",
       "      <th>YR</th>\n",
       "      <th>MIN</th>\n",
       "      <th>MEA</th>\n",
       "      <th>DA</th>\n",
       "      <th>Snowfall</th>\n",
       "    </tr>\n",
       "  </thead>\n",
       "  <tbody>\n",
       "    <tr>\n",
       "      <th>0</th>\n",
       "      <td>25.555556</td>\n",
       "      <td>78.0</td>\n",
       "      <td>23.888889</td>\n",
       "      <td>1.016</td>\n",
       "      <td>7</td>\n",
       "      <td>10001</td>\n",
       "      <td>22.222222</td>\n",
       "      <td>42</td>\n",
       "      <td>72.0</td>\n",
       "      <td>75.0</td>\n",
       "      <td>1</td>\n",
       "      <td>0.0</td>\n",
       "    </tr>\n",
       "    <tr>\n",
       "      <th>1</th>\n",
       "      <td>28.888889</td>\n",
       "      <td>84.0</td>\n",
       "      <td>25.555556</td>\n",
       "      <td>0.000</td>\n",
       "      <td>7</td>\n",
       "      <td>10001</td>\n",
       "      <td>21.666667</td>\n",
       "      <td>42</td>\n",
       "      <td>71.0</td>\n",
       "      <td>78.0</td>\n",
       "      <td>2</td>\n",
       "      <td>0.0</td>\n",
       "    </tr>\n",
       "    <tr>\n",
       "      <th>2</th>\n",
       "      <td>26.111111</td>\n",
       "      <td>79.0</td>\n",
       "      <td>24.444444</td>\n",
       "      <td>2.540</td>\n",
       "      <td>7</td>\n",
       "      <td>10001</td>\n",
       "      <td>22.222222</td>\n",
       "      <td>42</td>\n",
       "      <td>72.0</td>\n",
       "      <td>76.0</td>\n",
       "      <td>3</td>\n",
       "      <td>0.0</td>\n",
       "    </tr>\n",
       "    <tr>\n",
       "      <th>3</th>\n",
       "      <td>26.666667</td>\n",
       "      <td>80.0</td>\n",
       "      <td>24.444444</td>\n",
       "      <td>2.540</td>\n",
       "      <td>7</td>\n",
       "      <td>10001</td>\n",
       "      <td>22.222222</td>\n",
       "      <td>42</td>\n",
       "      <td>72.0</td>\n",
       "      <td>76.0</td>\n",
       "      <td>4</td>\n",
       "      <td>0.0</td>\n",
       "    </tr>\n",
       "    <tr>\n",
       "      <th>4</th>\n",
       "      <td>26.666667</td>\n",
       "      <td>80.0</td>\n",
       "      <td>24.444444</td>\n",
       "      <td>0.000</td>\n",
       "      <td>7</td>\n",
       "      <td>10001</td>\n",
       "      <td>21.666667</td>\n",
       "      <td>42</td>\n",
       "      <td>71.0</td>\n",
       "      <td>76.0</td>\n",
       "      <td>5</td>\n",
       "      <td>0.0</td>\n",
       "    </tr>\n",
       "  </tbody>\n",
       "</table>\n",
       "</div>"
      ],
      "text/plain": [
       "     MaxTemp   MAX   MeanTemp  Precip  MO    STA    MinTemp  YR   MIN   MEA  \\\n",
       "0  25.555556  78.0  23.888889   1.016   7  10001  22.222222  42  72.0  75.0   \n",
       "1  28.888889  84.0  25.555556   0.000   7  10001  21.666667  42  71.0  78.0   \n",
       "2  26.111111  79.0  24.444444   2.540   7  10001  22.222222  42  72.0  76.0   \n",
       "3  26.666667  80.0  24.444444   2.540   7  10001  22.222222  42  72.0  76.0   \n",
       "4  26.666667  80.0  24.444444   0.000   7  10001  21.666667  42  71.0  76.0   \n",
       "\n",
       "   DA  Snowfall  \n",
       "0   1       0.0  \n",
       "1   2       0.0  \n",
       "2   3       0.0  \n",
       "3   4       0.0  \n",
       "4   5       0.0  "
      ]
     },
     "execution_count": 82,
     "metadata": {},
     "output_type": "execute_result"
    }
   ],
   "source": [
    "# Пересортируем признаки на основе важности\n",
    "data_sorted = data[tree_fl]\n",
    "data_sorted.head()"
   ]
  },
  {
   "cell_type": "code",
   "execution_count": 101,
   "metadata": {},
   "outputs": [
    {
     "data": {
      "text/plain": [
       "[1, 2, 3, 4, 5, 6, 7, 8, 9, 10, 11, 12]"
      ]
     },
     "execution_count": 101,
     "metadata": {},
     "output_type": "execute_result"
    }
   ],
   "source": [
    "# Исследуем, как изменяется ошибка при добавлении признаков в порядке значимости\n",
    "X_range = list(range(1, len(X_train.columns)+1))\n",
    "X_range"
   ]
  },
  {
   "cell_type": "code",
   "execution_count": 98,
   "metadata": {},
   "outputs": [],
   "source": [
    "mae_list = []\n",
    "for i in X_range:\n",
    "    # Обучим дерево и предскажем результаты на заданном количестве признаков \n",
    "    tree_3 = DecisionTreeRegressor(random_state=1).fit(\n",
    "        X_train[tree_fl[0:i]], Y_train)\n",
    "    Y_test_predict_3 = tree_3.predict(X_test[tree_fl[0:i]])\n",
    "    temp_mae = mean_absolute_error(Y_test, Y_test_predict_3)\n",
    "    mae_list.append(temp_mae)"
   ]
  },
  {
   "cell_type": "code",
   "execution_count": 114,
   "metadata": {},
   "outputs": [
    {
     "data": {
      "image/png": "[encoded data removed]",
      "text/plain": [
       "<Figure size 720x360 with 1 Axes>"
      ]
     },
     "metadata": {},
     "output_type": "display_data"
    }
   ],
   "source": [
    "plt.subplots(figsize=(10,5))\n",
    "plt.plot(X_range, mae_list)\n",
    "for a,b in zip(X_range, mae_list):\n",
    "    plt.text(a, b, str(round(b,8)))\n",
    "plt.show()"
   ]
  },
  {
   "cell_type": "markdown",
   "metadata": {},
   "source": [
    "## Оценка качества моделей"
   ]
  },
  {
   "cell_type": "markdown",
   "metadata": {},
   "source": [
    "### 1) Линейная модель"
   ]
  },
  {
   "cell_type": "code",
   "execution_count": 120,
   "metadata": {},
   "outputs": [
    {
     "name": "stdout",
     "output_type": "stream",
     "text": [
      "MSE: 0.002500055874428001\n",
      "R2_score: 0.7715582862315506\n"
     ]
    }
   ],
   "source": [
    "pred_lin = reg1.predict(x_array.reshape(-1,1))\n",
    "print(\"MSE:\", mean_squared_error(y_array, pred_lin))\n",
    "print(\"R2_score:\", r2_score(y_array, pred_lin))"
   ]
  },
  {
   "cell_type": "markdown",
   "metadata": {},
   "source": [
    "### 2) SVR"
   ]
  },
  {
   "cell_type": "code",
   "execution_count": 121,
   "metadata": {},
   "outputs": [
    {
     "name": "stdout",
     "output_type": "stream",
     "text": [
      "MSE: 0.0013312099214819165\n",
      "R2_score: 0.8767114374535686\n"
     ]
    }
   ],
   "source": [
    "svr = SVR(kernel='rbf')\n",
    "svrf=svr.fit(X_train, Y_train)\n",
    "svr_pred=svrf.predict(X_test)\n",
    "print(\"MSE:\", mean_squared_error(Y_test, svr_pred))\n",
    "print(\"R2_score:\", r2_score(Y_test, svr_pred))"
   ]
  },
  {
   "cell_type": "markdown",
   "metadata": {},
   "source": [
    "### 3) Дерево решений"
   ]
  },
  {
   "cell_type": "code",
   "execution_count": 125,
   "metadata": {},
   "outputs": [
    {
     "name": "stdout",
     "output_type": "stream",
     "text": [
      "MSE: 1.2445241005575542e-08\n",
      "R2_score: 0.9999988473975071\n"
     ]
    }
   ],
   "source": [
    "y_tree_pred = tree.predict(X_test)\n",
    "print(\"MSE:\", mean_squared_error(Y_test, Y_pred_tree))\n",
    "print(\"R2_score:\", r2_score(Y_test, Y_pred_tree))"
   ]
  },
  {
   "cell_type": "code",
   "execution_count": null,
   "metadata": {},
   "outputs": [],
   "source": []
  }
 ],
 "metadata": {
  "kernelspec": {
   "display_name": "Python 3",
   "language": "python",
   "name": "python3"
  },
  "language_info": {
   "codemirror_mode": {
    "name": "ipython",
    "version": 3
   },
   "file_extension": ".py",
   "mimetype": "text/x-python",
   "name": "python",
   "nbconvert_exporter": "python",
   "pygments_lexer": "ipython3",
   "version": "3.8.5"
  }
 },
 "nbformat": 4,
 "nbformat_minor": 4
}
